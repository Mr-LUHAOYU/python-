{
 "cells": [
  {
   "cell_type": "code",
   "outputs": [],
   "source": [
    "from IPython.core.interactiveshell import InteractiveShell\n",
    "InteractiveShell.ast_node_interactivity = 'all'\n",
    "\n",
    "import numpy as np\n",
    "import pandas as pd"
   ],
   "metadata": {
    "collapsed": false,
    "ExecuteTime": {
     "end_time": "2024-06-04T06:41:26.937110500Z",
     "start_time": "2024-06-04T06:41:26.339902400Z"
    }
   },
   "id": "2460de542d03e100",
   "execution_count": 2
  },
  {
   "cell_type": "code",
   "outputs": [],
   "source": [
    "Y_LABELS = {\n",
    "    'normal.': 'Normal',\n",
    "    \n",
    "    'back.': 'DoS',\n",
    "    'land.': 'DoS',\n",
    "    'neptune.': 'DoS',\n",
    "    'pod.': 'DoS',\n",
    "    'smurf.': 'DoS',\n",
    "    'teardrop.': 'DoS',\n",
    "    \n",
    "    'ipsweep.': 'Probe',\n",
    "    'nmap.': 'Probe',\n",
    "    'portsweep.': 'Probe',\n",
    "    'satan.': 'Probe',\n",
    "    \n",
    "    'ftp_write.': 'R2L',\n",
    "    'guess_passwd.': 'R2L',\n",
    "    'imap.': 'R2L',\n",
    "    'multihop.': 'R2L',\n",
    "    'phf.': 'R2L',\n",
    "    'spy.': 'R2L',\n",
    "    'warezclient.': 'R2L',\n",
    "    'warezmaster.': 'R2L',\n",
    "    \n",
    "    'buffer_overflow.': 'U2R',\n",
    "    'loadmodule.': 'U2R',\n",
    "    'perl.': 'U2R',\n",
    "    'rootkit.': 'U2R'\n",
    "}"
   ],
   "metadata": {
    "collapsed": false,
    "ExecuteTime": {
     "end_time": "2024-06-04T06:41:26.949261600Z",
     "start_time": "2024-06-04T06:41:26.938113100Z"
    }
   },
   "id": "1a0ec181d63f9b27",
   "execution_count": 3
  },
  {
   "cell_type": "code",
   "outputs": [],
   "source": [
    "class LabelEncoder(object):\n",
    "    def __init__(self):\n",
    "        self.mapping = {}\n",
    "        self.inverse_mapping = {}\n",
    "    def fit(self, data):\n",
    "        unique_values = np.unique(data)\n",
    "        for i, value in enumerate(unique_values):\n",
    "            self.mapping[value] = i\n",
    "            self.inverse_mapping[i] = value\n",
    "    def transform(self, data):\n",
    "        return np.array([self.mapping[value] for value in data])\n",
    "\n",
    "    def fit_transform(self, data):\n",
    "        self.fit(data)\n",
    "        return self.transform(data)\n",
    "\n",
    "    def inverse_transform(self, data):\n",
    "        return np.array([self.inverse_mapping[value] for value in data])"
   ],
   "metadata": {
    "collapsed": false,
    "ExecuteTime": {
     "end_time": "2024-06-04T06:41:30.259218500Z",
     "start_time": "2024-06-04T06:41:30.249154600Z"
    }
   },
   "id": "23cf61a7cfd70dbb",
   "execution_count": 4
  },
  {
   "cell_type": "code",
   "outputs": [],
   "source": [
    "class Cluster(object):\n",
    "    def __init__(\n",
    "            self, \n",
    "            n_clusters=5, \n",
    "            max_iter=100, \n",
    "            eps=1e-6, \n",
    "            distance='euclidean',\n",
    "            random_state=None,\n",
    "            **kwargs\n",
    "    ):\n",
    "        self.n_clusters = n_clusters\n",
    "        self.max_iter = max_iter\n",
    "        self.eps = eps\n",
    "        self.distance = {\n",
    "            'euclidean': self.euclidean,\n",
    "            'manhattan': self.manhattan,\n",
    "        }[distance]\n",
    "        self.random_state = random_state\n",
    "        for k, v in kwargs.items():\n",
    "            if type(v) == str:\n",
    "                v = eval(v)\n",
    "            setattr(self, k, v)\n",
    "    \n",
    "    def to_DataFrame(self):\n",
    "        kv = self.__dict__.copy()\n",
    "        kv['distance'] = self.distance.__name__\n",
    "        kv['Mu'] = kv['Mu'].tolist()\n",
    "        kv['label'] = kv['label'].tolist()\n",
    "        return pd.DataFrame([kv])\n",
    "    \n",
    "    def fit(self, X, y):\n",
    "        np.random.seed(self.random_state)\n",
    "        Mu = X[np.random.choice(\n",
    "            X.shape[0], self.n_clusters, replace=False\n",
    "        )]\n",
    "        \n",
    "        mp = {\n",
    "            y.unique()[i]: i\n",
    "            for i in range(y.unique().shape[0])\n",
    "        }\n",
    "        mp.update({\n",
    "            i: y.unique()[i]\n",
    "            for i in range(y.unique().shape[0])\n",
    "        })\n",
    "        label_ = np.array([\n",
    "            np.array([0] * y.unique().shape[0])\n",
    "            for _ in range(self.n_clusters)\n",
    "        ])\n",
    "        \n",
    "        for n_iter in range(self.max_iter):\n",
    "            Mu_copy = Mu.copy()\n",
    "            C = [[] for _ in range(self.n_clusters)]\n",
    "            label = label_.copy()\n",
    "        \n",
    "            for i in range(X.shape[0]):\n",
    "                dist = np.array([self.distance(X[i], mu) for mu in Mu])\n",
    "                for _ in range(self.n_clusters):\n",
    "                    r = np.argmin(dist)\n",
    "                    if not self.violated(mp[y[i]], r, label):\n",
    "                        C[r].append(i)\n",
    "                        label[r][mp[y[i]]] += 1\n",
    "                        break\n",
    "                    else:\n",
    "                        dist[r] = np.inf\n",
    "            print(f'iter: {n_iter + 1}')\n",
    "            print(label)\n",
    "            for j in range(self.n_clusters):\n",
    "                Mu[j] = np.mean(X[C[j]], axis=0)\n",
    "            if np.all(np.abs(Mu_copy - Mu) < self.eps):\n",
    "                break\n",
    "        \n",
    "        self.label = np.array(\n",
    "            [mp[np.random.choice(np.where(s == s.max())[0], 1)[0]] for s in label]\n",
    "        )\n",
    "        self.Mu = Mu\n",
    "    \n",
    "    def predict(self, X):\n",
    "        y_pred = np.array([\n",
    "            self.label[np.argmin(\n",
    "                [self.distance(X[i], mu) for mu in self.Mu]\n",
    "            )] for i in range(X.shape[0])\n",
    "        ])\n",
    "        return y_pred\n",
    "    \n",
    "    def fit_predict(self, X, y):\n",
    "        self.fit(X, y)\n",
    "        return self.predict(X)\n",
    "    \n",
    "    def score(self, X, y):\n",
    "        y_pred = self.predict(X)\n",
    "        self.accuracy = np.mean(y_pred == y)\n",
    "        return self.accuracy\n",
    "    \n",
    "    @staticmethod\n",
    "    def euclidean(a, b):\n",
    "        return np.linalg.norm(a - b)\n",
    "    \n",
    "    @staticmethod\n",
    "    def manhattan(a, b):\n",
    "        return np.sum(np.abs(a - b))\n",
    "    \n",
    "    @staticmethod\n",
    "    def violated(i_label, r, labels):\n",
    "        if not labels[r].sum():\n",
    "            return False\n",
    "        return not labels[r][i_label] and np.sum(labels[:, i_label])\n",
    "    \n",
    "    def saveModel(self):\n",
    "        with open('Models/version_C', 'r') as f:\n",
    "            version = int(f.read())\n",
    "        version += 1\n",
    "        with open('Models/version_C', 'w') as f:\n",
    "            f.write(str(version))\n",
    "        self.to_DataFrame().to_csv(f'Models/cluster_{version}.csv', index=False)\n",
    "    \n",
    "    def loadModel(self, version):\n",
    "        with open(f'Models/cluster_{version}.csv', 'r') as f:\n",
    "            kv = pd.read_csv(f).iloc[0].to_dict()\n",
    "        self.__init__(**kv)\n",
    "    \n",
    "    def loadFromDataFrame(self, df):\n",
    "        kv = df.iloc[0].to_dict()\n",
    "        self.__init__(**kv)"
   ],
   "metadata": {
    "collapsed": false,
    "ExecuteTime": {
     "end_time": "2024-06-04T06:41:31.009238Z",
     "start_time": "2024-06-04T06:41:30.995567200Z"
    }
   },
   "id": "initial_id",
   "execution_count": 5
  },
  {
   "cell_type": "code",
   "outputs": [],
   "source": [
    "def OverSample(X: pd.DataFrame, y: pd.Series, random_state=42):\n",
    "    np.random.seed(random_state)\n",
    "    unique, counts = np.unique(y, return_counts=True)\n",
    "    MAX = counts.max()\n",
    "    for i in range(unique.shape[0]):\n",
    "        if counts[i] < MAX:\n",
    "            idx = np.where(y == unique[i])[0]\n",
    "            idx = np.random.choice(idx, (MAX - counts[i]) // 10)\n",
    "            X = pd.concat([X, X.iloc[idx, :]], axis=0)\n",
    "            y = pd.concat([y, y.iloc[idx]], axis=0)\n",
    "    X = X.reset_index(drop=True)\n",
    "    y = y.reset_index(drop=True)\n",
    "    return X, y\n",
    "\n",
    "def min_max_normalize(data):\n",
    "    min_val = data.min(axis=0)\n",
    "    max_val = data.max(axis=0)\n",
    "    return (data - min_val) * 1_000_000 / (max_val - min_val)"
   ],
   "metadata": {
    "collapsed": false,
    "ExecuteTime": {
     "end_time": "2024-06-04T06:41:31.772917200Z",
     "start_time": "2024-06-04T06:41:31.761436700Z"
    }
   },
   "id": "c2504bae7114c2d5",
   "execution_count": 6
  },
  {
   "cell_type": "code",
   "outputs": [
    {
     "data": {
      "text/plain": "normal.\nDoS       3883370\nNormal     972780\nProbe       41102\nR2L          1126\nU2R            52\nName: count, dtype: int64"
     },
     "execution_count": 7,
     "metadata": {},
     "output_type": "execute_result"
    }
   ],
   "source": [
    "df = pd.read_csv('kddcup.data.gz')\n",
    "X = df.iloc[:, :-1]\n",
    "y = df.iloc[:, -1]\n",
    "\n",
    "encoder = LabelEncoder()\n",
    "for col in X.select_dtypes(include=['object']).columns:\n",
    "    X[col] = encoder.fit_transform(X[col])\n",
    "\n",
    "X = min_max_normalize(X).dropna(axis=1)\n",
    "y = y.map(Y_LABELS)\n",
    "y.value_counts()"
   ],
   "metadata": {
    "collapsed": false,
    "ExecuteTime": {
     "end_time": "2024-06-04T06:42:02.678508Z",
     "start_time": "2024-06-04T06:41:32.526915300Z"
    }
   },
   "id": "293d561002644295",
   "execution_count": 7
  },
  {
   "cell_type": "code",
   "outputs": [
    {
     "data": {
      "text/plain": "           count\nnormal.         \nDoS      2192451\nNormal    712266\nProbe      33187\nR2L         1125\nU2R           29",
      "text/html": "<div>\n<style scoped>\n    .dataframe tbody tr th:only-of-type {\n        vertical-align: middle;\n    }\n\n    .dataframe tbody tr th {\n        vertical-align: top;\n    }\n\n    .dataframe thead th {\n        text-align: right;\n    }\n</style>\n<table border=\"1\" class=\"dataframe\">\n  <thead>\n    <tr style=\"text-align: right;\">\n      <th></th>\n      <th>count</th>\n    </tr>\n    <tr>\n      <th>normal.</th>\n      <th></th>\n    </tr>\n  </thead>\n  <tbody>\n    <tr>\n      <th>DoS</th>\n      <td>2192451</td>\n    </tr>\n    <tr>\n      <th>Normal</th>\n      <td>712266</td>\n    </tr>\n    <tr>\n      <th>Probe</th>\n      <td>33187</td>\n    </tr>\n    <tr>\n      <th>R2L</th>\n      <td>1125</td>\n    </tr>\n    <tr>\n      <th>U2R</th>\n      <td>29</td>\n    </tr>\n  </tbody>\n</table>\n</div>"
     },
     "execution_count": 8,
     "metadata": {},
     "output_type": "execute_result"
    },
    {
     "data": {
      "text/plain": "           count\nnormal.         \nDoS      2192451\nNormal    860284\nProbe     249113\nR2L       220257\nU2R       219271",
      "text/html": "<div>\n<style scoped>\n    .dataframe tbody tr th:only-of-type {\n        vertical-align: middle;\n    }\n\n    .dataframe tbody tr th {\n        vertical-align: top;\n    }\n\n    .dataframe thead th {\n        text-align: right;\n    }\n</style>\n<table border=\"1\" class=\"dataframe\">\n  <thead>\n    <tr style=\"text-align: right;\">\n      <th></th>\n      <th>count</th>\n    </tr>\n    <tr>\n      <th>normal.</th>\n      <th></th>\n    </tr>\n  </thead>\n  <tbody>\n    <tr>\n      <th>DoS</th>\n      <td>2192451</td>\n    </tr>\n    <tr>\n      <th>Normal</th>\n      <td>860284</td>\n    </tr>\n    <tr>\n      <th>Probe</th>\n      <td>249113</td>\n    </tr>\n    <tr>\n      <th>R2L</th>\n      <td>220257</td>\n    </tr>\n    <tr>\n      <th>U2R</th>\n      <td>219271</td>\n    </tr>\n  </tbody>\n</table>\n</div>"
     },
     "execution_count": 8,
     "metadata": {},
     "output_type": "execute_result"
    }
   ],
   "source": [
    "X_train = X.iloc[:X.shape[0] * 3 // 5, :].reset_index(drop=True)\n",
    "y_train = y.iloc[:y.shape[0] * 3 // 5].reset_index(drop=True)\n",
    "y_train.value_counts().to_frame()\n",
    "\n",
    "X_train, y_train = OverSample(X_train, y_train, random_state=42)\n",
    "y_train.value_counts().to_frame()\n",
    "\n",
    "X_test = X.iloc[X.shape[0] * 3 // 5:, :].reset_index(drop=True)\n",
    "y_test = y.iloc[y.shape[0] * 3 // 5:].reset_index(drop=True)"
   ],
   "metadata": {
    "collapsed": false,
    "ExecuteTime": {
     "end_time": "2024-06-04T06:42:07.406733500Z",
     "start_time": "2024-06-04T06:42:02.676411900Z"
    }
   },
   "id": "7b1c7b234e605217",
   "execution_count": 8
  },
  {
   "cell_type": "code",
   "outputs": [
    {
     "name": "stdout",
     "output_type": "stream",
     "text": [
      "iter: 1\n",
      "[[      0       0 1705940       0       0]\n",
      " [   4637       0       0       0       0]\n",
      " [      0       0  484848       0       0]\n",
      " [ 792977       0       0       0  237484]\n",
      " [      0       0       0       0   11629]\n",
      " [  62670  219271    1663  220257       0]]\n",
      "iter: 2\n",
      "[[      0       0 1780891       0       0]\n",
      " [  63016       0       0       0       0]\n",
      " [    110       0  411560       0       0]\n",
      " [ 684385       0       0       0  249113]\n",
      " [  41702       0       0       0       0]\n",
      " [  71071  219271       0  220257       0]]\n",
      "iter: 3\n",
      "[[      0       0 1781124       0       0]\n",
      " [  74844       0       0       0       0]\n",
      " [     60       0  411327       0       0]\n",
      " [ 657462       0       0       0       0]\n",
      " [  39101       0       0       0  249113]\n",
      " [  88817  219271       0  220257       0]]\n",
      "iter: 4\n",
      "[[      0       0 1781126       0       0]\n",
      " [  82404       0       0       0       0]\n",
      " [     71       0  411325       0       0]\n",
      " [ 650909       0       0       0       0]\n",
      " [  39535       0       0       0  249113]\n",
      " [  87365  219271       0  220257       0]]\n",
      "iter: 5\n",
      "[[      0       0 1781126       0       0]\n",
      " [  92176       0       0       0       0]\n",
      " [     70       0  411325       0       0]\n",
      " [ 655832       0       0       0       0]\n",
      " [  39402       0       0       0  249113]\n",
      " [  72804  219271       0  220257       0]]\n",
      "iter: 6\n",
      "[[      0       0 1781126       0       0]\n",
      " [  95876       0       0       0       0]\n",
      " [     68       0  411325       0       0]\n",
      " [ 655680       0       0       0       0]\n",
      " [  39253       0       0       0  249113]\n",
      " [  69407  219271       0  220257       0]]\n",
      "iter: 7\n",
      "[[      0       0 1781126       0       0]\n",
      " [  97084       0       0       0       0]\n",
      " [     67       0  411325       0       0]\n",
      " [ 655696       0       0       0       0]\n",
      " [  39192       0       0       0  249113]\n",
      " [  68245  219271       0  220257       0]]\n",
      "iter: 8\n",
      "[[      0       0 1781126       0       0]\n",
      " [  97437       0       0       0       0]\n",
      " [     67       0  411325       0       0]\n",
      " [ 655721       0       0       0       0]\n",
      " [  39173       0       0       0  249113]\n",
      " [  67886  219271       0  220257       0]]\n",
      "iter: 9\n",
      "[[      0       0 1781126       0       0]\n",
      " [  97538       0       0       0       0]\n",
      " [     67       0  411325       0       0]\n",
      " [ 655728       0       0       0       0]\n",
      " [  39173       0       0       0  249113]\n",
      " [  67778  219271       0  220257       0]]\n",
      "iter: 10\n",
      "[[      0       0 1781126       0       0]\n",
      " [  97576       0       0       0       0]\n",
      " [     67       0  411325       0       0]\n",
      " [ 655731       0       0       0       0]\n",
      " [  39174       0       0       0  249113]\n",
      " [  67736  219271       0  220257       0]]\n",
      "iter: 11\n",
      "[[      0       0 1781126       0       0]\n",
      " [  97587       0       0       0       0]\n",
      " [     67       0  411325       0       0]\n",
      " [ 655735       0       0       0       0]\n",
      " [  39174       0       0       0  249113]\n",
      " [  67721  219271       0  220257       0]]\n",
      "iter: 12\n",
      "[[      0       0 1781126       0       0]\n",
      " [  97599       0       0       0       0]\n",
      " [     67       0  411325       0       0]\n",
      " [ 655738       0       0       0       0]\n",
      " [  39174       0       0       0  249113]\n",
      " [  67706  219271       0  220257       0]]\n",
      "iter: 13\n",
      "[[      0       0 1781126       0       0]\n",
      " [  97603       0       0       0       0]\n",
      " [     67       0  411325       0       0]\n",
      " [ 655740       0       0       0       0]\n",
      " [  39174       0       0       0  249113]\n",
      " [  67700  219271       0  220257       0]]\n",
      "iter: 14\n",
      "[[      0       0 1781126       0       0]\n",
      " [  97604       0       0       0       0]\n",
      " [     67       0  411325       0       0]\n",
      " [ 655742       0       0       0       0]\n",
      " [  39174       0       0       0  249113]\n",
      " [  67697  219271       0  220257       0]]\n",
      "iter: 15\n",
      "[[      0       0 1781126       0       0]\n",
      " [  97604       0       0       0       0]\n",
      " [     67       0  411325       0       0]\n",
      " [ 655742       0       0       0       0]\n",
      " [  39174       0       0       0  249113]\n",
      " [  67697  219271       0  220257       0]]\n"
     ]
    }
   ],
   "source": [
    "# model = Cluster(\n",
    "#     n_clusters=6, max_iter=20, \n",
    "#     eps=1e-6, distance='euclidean', \n",
    "#     random_state=24,\n",
    "# )\n",
    "# model.fit(X_train.to_numpy(), y_train)"
   ],
   "metadata": {
    "collapsed": false,
    "ExecuteTime": {
     "end_time": "2024-05-25T09:05:22.320547Z",
     "start_time": "2024-05-25T08:40:31.094155Z"
    }
   },
   "id": "5bef22b51d7a025f",
   "execution_count": 161
  },
  {
   "cell_type": "code",
   "outputs": [
    {
     "data": {
      "text/plain": "0.8703666276745814"
     },
     "execution_count": 162,
     "metadata": {},
     "output_type": "execute_result"
    }
   ],
   "source": [
    "# model.score(X_test.to_numpy(), y_test)\n",
    "# model.saveModel()"
   ],
   "metadata": {
    "collapsed": false,
    "ExecuteTime": {
     "end_time": "2024-05-25T09:06:02.974317100Z",
     "start_time": "2024-05-25T09:05:22.346655600Z"
    }
   },
   "id": "5a229f6701cc6b83",
   "execution_count": 162
  },
  {
   "cell_type": "code",
   "outputs": [],
   "source": [
    "from sklearn.metrics import fowlkes_mallows_score, rand_score, jaccard_score, silhouette_score\n",
    "\n",
    "model = Cluster()\n",
    "model.loadModel(version=30)\n",
    "y_pred = model.predict(X_test.to_numpy())"
   ],
   "metadata": {
    "collapsed": false,
    "ExecuteTime": {
     "end_time": "2024-06-04T06:44:51.425476700Z",
     "start_time": "2024-06-04T06:43:21.992391800Z"
    }
   },
   "id": "413dfdff344eca17",
   "execution_count": 10
  },
  {
   "cell_type": "code",
   "outputs": [],
   "source": [
    "from sklearn.metrics import silhouette_score\n",
    "silhouette_score(X_test.to_numpy(), y_pred)\n",
    "silhouette_score(X, y)"
   ],
   "metadata": {
    "collapsed": false,
    "is_executing": true,
    "ExecuteTime": {
     "start_time": "2024-06-04T06:46:15.503071Z"
    }
   },
   "id": "3abc4f39ba3f97e",
   "execution_count": null
  },
  {
   "cell_type": "code",
   "outputs": [
    {
     "name": "stdout",
     "output_type": "stream",
     "text": [
      "FM: 0.8831637364293012\n",
      "Rand: 0.8322279594153843\n",
      "Jaccard: 0.8678624839493645\n"
     ]
    }
   ],
   "source": [
    "print(f'FM: {fowlkes_mallows_score(y_test, y_pred)}')\n",
    "print(f'Rand: {rand_score(y_test, y_pred)}')\n",
    "print(f'Jaccard: {jaccard_score(y_test, y_pred, average=\"weighted\")}')"
   ],
   "metadata": {
    "collapsed": false,
    "ExecuteTime": {
     "end_time": "2024-05-28T07:02:14.276032800Z",
     "start_time": "2024-05-28T07:02:03.685966500Z"
    }
   },
   "id": "144170f09dc6a461",
   "execution_count": 10
  },
  {
   "cell_type": "code",
   "outputs": [
    {
     "data": {
      "text/plain": "              FM      Rand   Jaccard\nNormal  0.829213  0.687594  0.819326\nDoS     0.886631  0.786114  0.878334\nProbe   0.702985  0.494188  0.505749\nR2L          0.0       1.0       0.0\nU2R     0.955533  0.913043       0.0\nAll     0.882689  0.831585  0.866473",
      "text/html": "<div>\n<style scoped>\n    .dataframe tbody tr th:only-of-type {\n        vertical-align: middle;\n    }\n\n    .dataframe tbody tr th {\n        vertical-align: top;\n    }\n\n    .dataframe thead th {\n        text-align: right;\n    }\n</style>\n<table border=\"1\" class=\"dataframe\">\n  <thead>\n    <tr style=\"text-align: right;\">\n      <th></th>\n      <th>FM</th>\n      <th>Rand</th>\n      <th>Jaccard</th>\n    </tr>\n  </thead>\n  <tbody>\n    <tr>\n      <th>Normal</th>\n      <td>0.829213</td>\n      <td>0.687594</td>\n      <td>0.819326</td>\n    </tr>\n    <tr>\n      <th>DoS</th>\n      <td>0.886631</td>\n      <td>0.786114</td>\n      <td>0.878334</td>\n    </tr>\n    <tr>\n      <th>Probe</th>\n      <td>0.702985</td>\n      <td>0.494188</td>\n      <td>0.505749</td>\n    </tr>\n    <tr>\n      <th>R2L</th>\n      <td>0.0</td>\n      <td>1.0</td>\n      <td>0.0</td>\n    </tr>\n    <tr>\n      <th>U2R</th>\n      <td>0.955533</td>\n      <td>0.913043</td>\n      <td>0.0</td>\n    </tr>\n    <tr>\n      <th>All</th>\n      <td>0.882689</td>\n      <td>0.831585</td>\n      <td>0.866473</td>\n    </tr>\n  </tbody>\n</table>\n</div>"
     },
     "execution_count": 22,
     "metadata": {},
     "output_type": "execute_result"
    }
   ],
   "source": [
    "result = pd.DataFrame(columns=['FM', 'Rand', 'Jaccard'], index=['Normal', 'DoS', 'Probe', 'R2L', 'U2R', 'All'])\n",
    "# result.index = ['Normal', 'DoS', 'Probe', 'R2L', 'U2R', 'All']\n",
    "for name in ['Normal', 'DoS', 'Probe', 'R2L', 'U2R']:\n",
    "    part = np.where(y_test == name)\n",
    "    y_test_part = y_test.iloc[part]\n",
    "    y_pred_part = y_pred[part]\n",
    "    result.loc[name, 'FM'] = fowlkes_mallows_score(y_test_part, y_pred_part)\n",
    "    result.loc[name, 'Rand'] = rand_score(y_test_part, y_pred_part)\n",
    "    result.loc[name, 'Jaccard'] = jaccard_score(y_test_part, y_pred_part, average=\"weighted\")\n",
    "\n",
    "result.loc['All', 'FM'] = fowlkes_mallows_score(y_test, y_pred)\n",
    "result.loc['All', 'Rand'] = rand_score(y_test, y_pred)\n",
    "result.loc['All', 'Jaccard'] = jaccard_score(y_test, y_pred, average=\"weighted\")\n",
    "result\n"
   ],
   "metadata": {
    "collapsed": false,
    "ExecuteTime": {
     "end_time": "2024-06-02T10:03:49.583368500Z",
     "start_time": "2024-06-02T10:03:32.015481700Z"
    }
   },
   "id": "e435c0d7c844b864",
   "execution_count": 22
  },
  {
   "cell_type": "code",
   "outputs": [],
   "source": [
    "# test_model = Cluster()\n",
    "# test_model.loadModel(version=30)\n",
    "# test_model.score(X_test.to_numpy(), y_test)"
   ],
   "metadata": {
    "collapsed": false,
    "ExecuteTime": {
     "end_time": "2024-05-25T09:06:02.979694400Z",
     "start_time": "2024-05-25T09:06:02.975361100Z"
    }
   },
   "id": "ec0cf97f03a4c6ae",
   "execution_count": 163
  }
 ],
 "metadata": {
  "kernelspec": {
   "display_name": "Python 3",
   "language": "python",
   "name": "python3"
  },
  "language_info": {
   "codemirror_mode": {
    "name": "ipython",
    "version": 2
   },
   "file_extension": ".py",
   "mimetype": "text/x-python",
   "name": "python",
   "nbconvert_exporter": "python",
   "pygments_lexer": "ipython2",
   "version": "2.7.6"
  }
 },
 "nbformat": 4,
 "nbformat_minor": 5
}
