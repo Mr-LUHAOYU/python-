{
 "cells": [
  {
   "cell_type": "code",
   "execution_count": 1,
   "id": "initial_id",
   "metadata": {
    "execution": {
     "iopub.execute_input": "2024-04-22T13:05:01.215805Z",
     "iopub.status.busy": "2024-04-22T13:05:01.215204Z",
     "iopub.status.idle": "2024-04-22T13:05:01.220325Z",
     "shell.execute_reply": "2024-04-22T13:05:01.219535Z",
     "shell.execute_reply.started": "2024-04-22T13:05:01.215776Z"
    },
    "scrolled": true,
    "tags": [],
    "ExecuteTime": {
     "end_time": "2024-05-14T05:47:11.805492300Z",
     "start_time": "2024-05-14T05:47:11.624147300Z"
    }
   },
   "outputs": [],
   "source": [
    "import numpy as np\n",
    "import threading\n",
    "from IPython.core.interactiveshell import InteractiveShell\n",
    "InteractiveShell.ast_node_interactivity = 'all'\n",
    "MODEL_VERSION = 8"
   ]
  },
  {
   "cell_type": "markdown",
   "source": [
    "## 数据预处理"
   ],
   "metadata": {
    "collapsed": false
   },
   "id": "7c57a09349e67401"
  },
  {
   "cell_type": "code",
   "outputs": [],
   "source": [
    "# 训练集\n",
    "data = np.genfromtxt(\"adult/adult.data\", delimiter=\",\", dtype=str)\n",
    "data = data[~np.any(data == '?', axis=1)]\n",
    "X = data[:, :14]\n",
    "y = data[:, 14]\n",
    "\n",
    "# 01编码\n",
    "y = y == y[0]\n",
    "\n",
    "# 数值编码\n",
    "for i in [1, 3, 5, 6, 7, 8, 9, 13]:\n",
    "    values = np.unique(X[:, i])\n",
    "    encoding = {value: idx for idx, value in enumerate(values)}\n",
    "    for j in range(X.shape[0]):\n",
    "        X[j][i] = encoding[X[j][i]]\n",
    "\n",
    "X = X.astype(int)\n",
    "y = y.astype(int)\n",
    "\n",
    "X_train = X[:X.shape[0] // 3 * 2, :]\n",
    "y_train = y[:X.shape[0] // 3 * 2]\n",
    "\n",
    "X_test = X[X.shape[0] // 3 * 2:, :]\n",
    "y_test = y[X.shape[0] // 3 * 2:]\n"
   ],
   "metadata": {
    "collapsed": false,
    "ExecuteTime": {
     "end_time": "2024-05-14T05:47:12.794036100Z",
     "start_time": "2024-05-14T05:47:11.805968700Z"
    }
   },
   "id": "f1a6b6f34f30636",
   "execution_count": 2
  },
  {
   "cell_type": "markdown",
   "source": [
    "## 得分"
   ],
   "metadata": {
    "collapsed": false
   },
   "id": "8c7763a06e149014"
  },
  {
   "cell_type": "code",
   "execution_count": 3,
   "id": "4f7ea6f94c470133",
   "metadata": {
    "collapsed": false,
    "execution": {
     "iopub.execute_input": "2024-04-22T13:05:04.327798Z",
     "iopub.status.busy": "2024-04-22T13:05:04.327062Z",
     "iopub.status.idle": "2024-04-22T13:05:04.336581Z",
     "shell.execute_reply": "2024-04-22T13:05:04.335166Z",
     "shell.execute_reply.started": "2024-04-22T13:05:04.327763Z"
    },
    "scrolled": true,
    "tags": [],
    "ExecuteTime": {
     "end_time": "2024-05-14T05:47:12.806342800Z",
     "start_time": "2024-05-14T05:47:12.800658700Z"
    }
   },
   "outputs": [],
   "source": [
    "class score(object):\n",
    "    def __init__(self, y_true, y_pred):\n",
    "        self.y_true = y_true\n",
    "        self.y_pred = y_pred\n",
    "    \n",
    "    def accuracy_score(self):\n",
    "        correct = np.sum(self.y_true == self.y_pred)\n",
    "        total = len(self.y_true)\n",
    "        accuracy = correct / total\n",
    "        return accuracy\n",
    "    \n",
    "    def precision_score(self):\n",
    "        true_positive = np.sum((self.y_true == 1) & (self.y_pred == 1))\n",
    "        false_positive = np.sum((self.y_true == 0) & (self.y_pred == 1))\n",
    "        precision = true_positive / (true_positive + false_positive)\n",
    "        return precision\n",
    "    \n",
    "    def recall_score(self):\n",
    "        true_positive = np.sum((self.y_true == 1) & (self.y_pred == 1))\n",
    "        false_negative = np.sum((self.y_true == 1) & (self.y_pred == 0))\n",
    "        recall = true_positive / (true_positive + false_negative)\n",
    "        return recall\n",
    "    \n",
    "    def f1_score(self):\n",
    "        precision = self.precision_score()\n",
    "        recall = self.recall_score()\n",
    "        f1 = 2 * precision * recall / (precision + recall)\n",
    "        return f1\n",
    "    \n",
    "    def show(self, title=None):\n",
    "        if title:\n",
    "            print(title)\n",
    "        print(f\"\"\"准确率: {self.accuracy_score()}\n",
    "精确率: {self.precision_score()}\n",
    "召回率: {self.recall_score()} \n",
    "F1 值: {self.f1_score()}\n",
    "\"\"\")\n"
   ]
  },
  {
   "cell_type": "markdown",
   "source": [
    "## 数据划分（基于信息熵）"
   ],
   "metadata": {
    "collapsed": false
   },
   "id": "c61497e3b76e3665"
  },
  {
   "cell_type": "code",
   "execution_count": 4,
   "id": "8bd8f665ef5a4843",
   "metadata": {
    "collapsed": false,
    "execution": {
     "iopub.execute_input": "2024-04-22T13:05:05.422259Z",
     "iopub.status.busy": "2024-04-22T13:05:05.421710Z",
     "iopub.status.idle": "2024-04-22T13:05:05.432831Z",
     "shell.execute_reply": "2024-04-22T13:05:05.431953Z",
     "shell.execute_reply.started": "2024-04-22T13:05:05.422227Z"
    },
    "scrolled": true,
    "tags": [],
    "ExecuteTime": {
     "end_time": "2024-05-14T05:47:12.820149200Z",
     "start_time": "2024-05-14T05:47:12.807375400Z"
    }
   },
   "outputs": [],
   "source": [
    "def calculate_entropy(y):\n",
    "    entropy = 0\n",
    "    for c in np.unique(y):\n",
    "        p = np.sum(y == c) / y.shape[0]\n",
    "        entropy -= p * np.log2(p)\n",
    "    return entropy\n",
    "\n",
    "def find_best_split(X, y):\n",
    "    if np.unique(y).shape[0] < 0:\n",
    "        return None, None\n",
    "    \n",
    "    best_feature_index = None\n",
    "    best_threshold = None\n",
    "    best_entropy = np.inf\n",
    "    \n",
    "    for feature_index in range(X.shape[1]):\n",
    "        values = X[:, feature_index]\n",
    "        unique_values = np.unique(values)\n",
    "        if unique_values.shape[0] <= 1:\n",
    "            continue\n",
    "        for value in unique_values:\n",
    "            left_indices = values <= value\n",
    "            right_indices = ~left_indices\n",
    "            \n",
    "            entropy = np.sum(left_indices) / y.shape[0] * calculate_entropy(y[left_indices]) + np.sum(right_indices) / y.shape[0] * calculate_entropy(y[right_indices])\n",
    "            \n",
    "            if entropy < best_entropy:\n",
    "                best_entropy = entropy\n",
    "                best_feature_index = feature_index\n",
    "                best_threshold = value\n",
    "    \n",
    "    return best_feature_index, best_threshold"
   ]
  },
  {
   "cell_type": "markdown",
   "source": [
    "## 结点"
   ],
   "metadata": {
    "collapsed": false
   },
   "id": "eac1d6fbffad5bd5"
  },
  {
   "cell_type": "code",
   "execution_count": 5,
   "id": "9300c85bff587e9",
   "metadata": {
    "collapsed": false,
    "ExecuteTime": {
     "end_time": "2024-05-14T05:47:12.842907300Z",
     "start_time": "2024-05-14T05:47:12.814013800Z"
    }
   },
   "outputs": [],
   "source": [
    "class TreeNode:\n",
    "    def __init__(\n",
    "            self, feature_index=None, threshold=None, \n",
    "            value=None, left=None, right=None\n",
    "    ):\n",
    "        self.feature_index = feature_index\n",
    "        self.threshold = threshold\n",
    "        self.value = value\n",
    "        self.left = left\n",
    "        self.right = right"
   ]
  },
  {
   "cell_type": "markdown",
   "source": [
    "## 决策树"
   ],
   "metadata": {
    "collapsed": false
   },
   "id": "8c1c7f975f6c9e1"
  },
  {
   "cell_type": "code",
   "outputs": [],
   "source": [
    "class DecisionTree:\n",
    "    def __init__(self, max_depth=3):\n",
    "        self.max_depth = max_depth\n",
    "        self.root = None\n",
    "    \n",
    "    def generateTree(self, X, y, depth=1):\n",
    "        if depth == self.max_depth or len(set(y)) == 1:\n",
    "            node = TreeNode(value=np.sort(y)[y.shape[0] >> 1])\n",
    "        else:\n",
    "            best_feature_index, best_threshold = find_best_split(X, y)\n",
    "            left_indices = X[:, best_feature_index] <= best_threshold\n",
    "            right_indices = ~left_indices\n",
    "            \n",
    "            left = self.generateTree(X[left_indices], y[left_indices], depth + 1)\n",
    "            right = self.generateTree(X[right_indices], y[right_indices], depth + 1)\n",
    "            \n",
    "            node = TreeNode(\n",
    "                feature_index=best_feature_index, threshold=best_threshold,\n",
    "                left=left, right=right\n",
    "            )\n",
    "        return node\n",
    "    \n",
    "    def fit(self, X, y, info=True):\n",
    "        info and print('training')\n",
    "        self.root = self.generateTree(X, y)\n",
    "        info and print('ok')\n",
    "    \n",
    "    def predict(self, X: np.ndarray) -> np.ndarray:\n",
    "        y_pred = []\n",
    "        for sample in X:\n",
    "            node = self.root\n",
    "            while node.left is not None and node.right is not None:\n",
    "                if sample[node.feature_index] <= node.threshold:\n",
    "                    node = node.left\n",
    "                else:\n",
    "                    node = node.right\n",
    "            y_pred.append(node.value)\n",
    "        return np.array(y_pred)"
   ],
   "metadata": {
    "collapsed": false,
    "ExecuteTime": {
     "end_time": "2024-05-14T05:47:12.843935400Z",
     "start_time": "2024-05-14T05:47:12.821610100Z"
    }
   },
   "id": "2e1f2f0b576ea271",
   "execution_count": 6
  },
  {
   "cell_type": "markdown",
   "source": [
    "## 决策森林"
   ],
   "metadata": {
    "collapsed": false
   },
   "id": "3dd7e83be09ae163"
  },
  {
   "cell_type": "code",
   "outputs": [],
   "source": [
    "class DecisionForest(object):\n",
    "    def __init__(self, tree_number: int = 1, max_depth: int = 3):\n",
    "        self.tree: list[DecisionTree|None] = []\n",
    "        self.weight: list[float|None] = []\n",
    "        self.tree_number = tree_number\n",
    "        self.max_depth = max_depth\n",
    "    \n",
    "    def fit(self, X: np.ndarray, y: np.ndarray):\n",
    "        print('Forest training start')\n",
    "\n",
    "        # 训练\n",
    "        threads = []\n",
    "        for i in range(self.tree_number):\n",
    "            self.tree.append(DecisionTree(max_depth=self.max_depth))\n",
    "            indices = np.random.choice(\n",
    "                a=range(X.shape[0]), \n",
    "                size=int(X.shape[0] * 0.3), \n",
    "                replace=True\n",
    "            )\n",
    "            threads.append(\n",
    "                threading.Thread(\n",
    "                    target=self.tree[i].fit, args=(\n",
    "                        X[indices], y[indices], \n",
    "                        False,\n",
    "                    )\n",
    "                )\n",
    "            )\n",
    "            threads[i].start()\n",
    "        \n",
    "        for i in range(self.tree_number):\n",
    "            threads[i].join()\n",
    "\n",
    "        # 加权\n",
    "        pred = np.array([sum(tree.predict(X) == y) for tree in self.tree])\n",
    "        self.weight = np.array([p / sum(pred) for p in pred])\n",
    "        print('Forest is ok')\n",
    "\n",
    "    def predict(self, X):\n",
    "        votes = np.zeros((self.tree_number, X.shape[0]))\n",
    "        for i in range(self.tree_number):\n",
    "            votes[i] = self.tree[i].predict(X)\n",
    "        votes = np.array([np.dot(vote, self.weight) >= 0.5 for vote in votes.T])\n",
    "        return votes"
   ],
   "metadata": {
    "collapsed": false,
    "execution": {
     "iopub.execute_input": "2024-04-22T13:15:35.145136Z",
     "iopub.status.busy": "2024-04-22T13:15:35.144380Z",
     "iopub.status.idle": "2024-04-22T13:15:35.167336Z",
     "shell.execute_reply": "2024-04-22T13:15:35.166444Z",
     "shell.execute_reply.started": "2024-04-22T13:15:35.145106Z"
    },
    "scrolled": true,
    "tags": [],
    "ExecuteTime": {
     "end_time": "2024-05-14T05:47:12.845164Z",
     "start_time": "2024-05-14T05:47:12.836372300Z"
    }
   },
   "id": "0b64f9cf-deb1-4b1a-82f0-60b793397397",
   "execution_count": 7
  },
  {
   "cell_type": "markdown",
   "source": [
    "## 模型训练"
   ],
   "metadata": {
    "collapsed": false
   },
   "id": "2dbe784b4948f929"
  },
  {
   "cell_type": "code",
   "outputs": [
    {
     "name": "stdout",
     "output_type": "stream",
     "text": [
      "training\n",
      "ok\n"
     ]
    }
   ],
   "source": [
    "clf = DecisionTree(max_depth=10)\n",
    "clf.fit(X_train, y_train)"
   ],
   "metadata": {
    "collapsed": false,
    "ExecuteTime": {
     "end_time": "2024-05-14T05:47:44.668853500Z",
     "start_time": "2024-05-14T05:47:12.841896500Z"
    }
   },
   "id": "b597cb2c09ec1c30",
   "execution_count": 8
  },
  {
   "cell_type": "code",
   "outputs": [
    {
     "name": "stdout",
     "output_type": "stream",
     "text": [
      "Forest training start\n",
      "Forest is ok\n",
      "[0.1005636  0.10035185 0.0998686  0.1001238  0.09991747 0.09926047\n",
      " 0.10021067 0.09947223 0.10010208 0.10012923]\n"
     ]
    }
   ],
   "source": [
    "forest = DecisionForest(tree_number=10, max_depth=10)\n",
    "forest.fit(X_train, y_train)\n",
    "print(forest.weight)"
   ],
   "metadata": {
    "collapsed": false,
    "ExecuteTime": {
     "end_time": "2024-05-14T05:49:36.821552200Z",
     "start_time": "2024-05-14T05:47:44.665815400Z"
    }
   },
   "id": "597391b8c700f8f1",
   "execution_count": 9
  },
  {
   "cell_type": "markdown",
   "source": [
    "## 模型测试"
   ],
   "metadata": {
    "collapsed": false
   },
   "id": "d7f58c6433648e1"
  },
  {
   "cell_type": "code",
   "execution_count": 10,
   "id": "438c3b377af52804",
   "metadata": {
    "collapsed": false,
    "execution": {
     "iopub.execute_input": "2024-04-22T13:16:17.898709Z",
     "iopub.status.busy": "2024-04-22T13:16:17.898135Z",
     "iopub.status.idle": "2024-04-22T13:16:18.162765Z",
     "shell.execute_reply": "2024-04-22T13:16:18.161880Z",
     "shell.execute_reply.started": "2024-04-22T13:16:17.898679Z"
    },
    "scrolled": true,
    "tags": [],
    "ExecuteTime": {
     "end_time": "2024-05-14T05:49:37.065776600Z",
     "start_time": "2024-05-14T05:49:36.812119Z"
    }
   },
   "outputs": [
    {
     "name": "stdout",
     "output_type": "stream",
     "text": [
      "决策树\n",
      "准确率: 0.8525103638876094\n",
      "精确率: 0.8627515671395579\n",
      "召回率: 0.9569407172481093 \n",
      "F1 值: 0.9074084783991672\n",
      "\n",
      "决策森林\n",
      "准确率: 0.8563795485951174\n",
      "精确率: 0.8667550546900895\n",
      "召回率: 0.9569407172481093 \n",
      "F1 值: 0.909617948866601\n"
     ]
    }
   ],
   "source": [
    "y_pred_tree = clf.predict(X_test)\n",
    "score(y_test, y_pred_tree).show('决策树')\n",
    "y_pred_forest = forest.predict(X_test)\n",
    "score(y_test, y_pred_forest).show('决策森林')"
   ]
  }
 ],
 "metadata": {
  "kernelspec": {
   "name": "python3",
   "language": "python",
   "display_name": "Python 3 (ipykernel)"
  },
  "language_info": {
   "codemirror_mode": {
    "name": "ipython",
    "version": 3
   },
   "file_extension": ".py",
   "mimetype": "text/x-python",
   "name": "python",
   "nbconvert_exporter": "python",
   "pygments_lexer": "ipython3",
   "version": "3.10.10"
  }
 },
 "nbformat": 4,
 "nbformat_minor": 5
}
