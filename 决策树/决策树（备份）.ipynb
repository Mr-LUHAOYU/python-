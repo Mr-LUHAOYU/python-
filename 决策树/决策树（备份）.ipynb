{
 "cells": [
  {
   "cell_type": "code",
   "execution_count": 1,
   "id": "initial_id",
   "metadata": {
    "execution": {
     "iopub.execute_input": "2024-04-22T13:05:01.215805Z",
     "iopub.status.busy": "2024-04-22T13:05:01.215204Z",
     "iopub.status.idle": "2024-04-22T13:05:01.220325Z",
     "shell.execute_reply": "2024-04-22T13:05:01.219535Z",
     "shell.execute_reply.started": "2024-04-22T13:05:01.215776Z"
    },
    "scrolled": true,
    "tags": [],
    "ExecuteTime": {
     "end_time": "2024-04-23T08:46:21.370496700Z",
     "start_time": "2024-04-23T08:46:21.300972800Z"
    }
   },
   "outputs": [],
   "source": [
    "import numpy as np\n",
    "import threading\n",
    "import pickle\n",
    "import os\n",
    "from IPython.core.interactiveshell import InteractiveShell\n",
    "\n",
    "InteractiveShell.ast_node_interactivity = 'all'\n",
    "MODEL_VERSION = 8"
   ]
  },
  {
   "cell_type": "markdown",
   "source": [
    "## 数据预处理"
   ],
   "metadata": {
    "collapsed": false
   },
   "id": "7c57a09349e67401"
  },
  {
   "cell_type": "code",
   "outputs": [
    {
     "data": {
      "text/plain": "array([[    39,      7,  77516, ...,      0,     40,     39],\n       [    50,      6,  83311, ...,      0,     13,     39],\n       [    38,      4, 215646, ...,      0,     40,     39],\n       ...,\n       [    58,      4, 151910, ...,      0,     40,     39],\n       [    22,      4, 201490, ...,      0,     20,     39],\n       [    52,      5, 287927, ...,      0,     40,     39]])"
     },
     "execution_count": 2,
     "metadata": {},
     "output_type": "execute_result"
    },
    {
     "data": {
      "text/plain": "array([1, 1, 1, ..., 1, 1, 0])"
     },
     "execution_count": 2,
     "metadata": {},
     "output_type": "execute_result"
    }
   ],
   "source": [
    "# 训练集\n",
    "# pd_train_data = pd.read_csv(r\"adult/adult.data\", header=None)\n",
    "# pd_train_data_missing_to_nan = pd_train_data.replace(\"\\?\", np.nan, regex=True)\n",
    "# pd_train_data_missing_to_mode = pd_train_data_missing_to_nan.fillna(value=pd_train_data_missing_to_nan.mode().iloc[0])\n",
    "# X_train = pd_train_data_missing_to_mode.iloc[:, :14].values\n",
    "# y_train = pd_train_data_missing_to_mode.iloc[:, 14].values\n",
    "data = np.genfromtxt(\"adult/adult.data\", delimiter=\",\", dtype=str)\n",
    "data = data[~np.any(data == '?', axis=1)]\n",
    "X_train = data[:, :14]\n",
    "y_train = data[:, 14]\n",
    "\n",
    "\n",
    "# 测试集\n",
    "# pd_test_data = pd.read_csv(r\"adult/adult.test\", header=None, skiprows=1)\n",
    "# pd_test_data_missing_to_nan = pd_test_data.replace(\"\\?\", np.nan, regex=True)\n",
    "# pd_test_data_missing_to_mode = pd_test_data_missing_to_nan.fillna(value=pd_test_data_missing_to_nan.mode().iloc[0])\n",
    "# X_test = pd_test_data_missing_to_mode.iloc[:, :14].values\n",
    "# y_test = pd_test_data_missing_to_mode.iloc[:, 14].values\n",
    "data_test = np.genfromtxt(\"adult/adult.test\", delimiter=\",\", dtype=str, skip_header=1)\n",
    "data_test = data_test[~np.any(data_test == '?', axis=1)]\n",
    "X_test = data_test[:, :14]\n",
    "y_test = data_test[:, 14]\n",
    "\n",
    "\n",
    "# 01编码\n",
    "true_sample = y_train[0]\n",
    "y_train = y_train == np.full(y_train.shape[0], true_sample)\n",
    "y_test = y_test == np.full(y_test.shape[0], true_sample + '.')\n",
    "\n",
    "# 数值编码\n",
    "for i in [1, 3, 5, 6, 7, 8, 9, 13]:\n",
    "    values_train = np.unique(X_train[:, i])\n",
    "    values_test = np.unique(X_test[:, i])\n",
    "    values = np.append(values_train, values_test)\n",
    "    values = np.unique(values)\n",
    "    encoding = {value: idx for idx, value in enumerate(values)}\n",
    "    for j in range(X_train.shape[0]):\n",
    "        X_train[j][i] = encoding[X_train[j][i]]\n",
    "    for j in range(X_test.shape[0]):\n",
    "        X_test[j][i] = encoding[X_test[j][i]]\n",
    "\n",
    "X_train = X_train.astype(int)\n",
    "y_train = y_train.astype(int)\n",
    "X_test = X_test.astype(int)\n",
    "y_train = y_train.astype(int)\n",
    "X_train\n",
    "y_train"
   ],
   "metadata": {
    "collapsed": false,
    "ExecuteTime": {
     "end_time": "2024-04-23T08:46:22.392011Z",
     "start_time": "2024-04-23T08:46:21.373941700Z"
    }
   },
   "id": "f1a6b6f34f30636",
   "execution_count": 2
  },
  {
   "cell_type": "markdown",
   "source": [
    "## 得分"
   ],
   "metadata": {
    "collapsed": false
   },
   "id": "8c7763a06e149014"
  },
  {
   "cell_type": "code",
   "execution_count": 3,
   "id": "4f7ea6f94c470133",
   "metadata": {
    "collapsed": false,
    "execution": {
     "iopub.execute_input": "2024-04-22T13:05:04.327798Z",
     "iopub.status.busy": "2024-04-22T13:05:04.327062Z",
     "iopub.status.idle": "2024-04-22T13:05:04.336581Z",
     "shell.execute_reply": "2024-04-22T13:05:04.335166Z",
     "shell.execute_reply.started": "2024-04-22T13:05:04.327763Z"
    },
    "scrolled": true,
    "tags": [],
    "ExecuteTime": {
     "end_time": "2024-04-23T08:46:22.392011Z",
     "start_time": "2024-04-23T08:46:22.385662200Z"
    }
   },
   "outputs": [],
   "source": [
    "class score(object):\n",
    "    def __init__(self, y_true, y_pred):\n",
    "        self.y_true = y_true\n",
    "        self.y_pred = y_pred\n",
    "    \n",
    "    @property\n",
    "    def accuracy_score(self):\n",
    "        correct = np.sum(self.y_true == self.y_pred)\n",
    "        total = len(self.y_true)\n",
    "        accuracy = correct / total\n",
    "        return accuracy\n",
    "    \n",
    "    @property\n",
    "    def precision_score(self):\n",
    "        true_positive = np.sum((self.y_true == 1) & (self.y_pred == 1))\n",
    "        false_positive = np.sum((self.y_true == 0) & (self.y_pred == 1))\n",
    "        precision = true_positive / (true_positive + false_positive)\n",
    "        return precision\n",
    "    \n",
    "    @property\n",
    "    def recall_score(self):\n",
    "        true_positive = np.sum((self.y_true == 1) & (self.y_pred == 1))\n",
    "        false_negative = np.sum((self.y_true == 1) & (self.y_pred == 0))\n",
    "        recall = true_positive / (true_positive + false_negative)\n",
    "        return recall\n",
    "    \n",
    "    @property\n",
    "    def f1_score(self):\n",
    "        precision = self.precision_score\n",
    "        recall = self.recall_score\n",
    "        f1 = 2 * precision * recall / (precision + recall)\n",
    "        return f1\n"
   ]
  },
  {
   "cell_type": "markdown",
   "source": [
    "## 数据划分（基于信息熵与信息增益）"
   ],
   "metadata": {
    "collapsed": false
   },
   "id": "c61497e3b76e3665"
  },
  {
   "cell_type": "code",
   "execution_count": 4,
   "id": "8bd8f665ef5a4843",
   "metadata": {
    "collapsed": false,
    "execution": {
     "iopub.execute_input": "2024-04-22T13:05:05.422259Z",
     "iopub.status.busy": "2024-04-22T13:05:05.421710Z",
     "iopub.status.idle": "2024-04-22T13:05:05.432831Z",
     "shell.execute_reply": "2024-04-22T13:05:05.431953Z",
     "shell.execute_reply.started": "2024-04-22T13:05:05.422227Z"
    },
    "scrolled": true,
    "tags": [],
    "ExecuteTime": {
     "end_time": "2024-04-23T08:46:22.402902700Z",
     "start_time": "2024-04-23T08:46:22.389971200Z"
    }
   },
   "outputs": [],
   "source": [
    "def calculate_entropy(y):\n",
    "    \"\"\"信息熵\"\"\"\n",
    "    classes = np.unique(y)\n",
    "    entropy = 0\n",
    "    for c in classes:\n",
    "        p = np.sum(y == c) / len(y)\n",
    "        entropy -= p * np.log2(p)\n",
    "    return entropy\n",
    "\n",
    "def calculate_information_gain(X, y, feature_index, threshold):\n",
    "    \"\"\"信息增益\"\"\"\n",
    "    parent_entropy = calculate_entropy(y)\n",
    "    \n",
    "    left_indices = X[:, feature_index] <= threshold\n",
    "    right_indices = ~left_indices\n",
    "    \n",
    "    left_entropy = calculate_entropy(y[left_indices])\n",
    "    right_entropy = calculate_entropy(y[right_indices])\n",
    "    \n",
    "    n_total = len(y)\n",
    "    n_left = np.sum(left_indices)\n",
    "    n_right = n_total - n_left\n",
    "    \n",
    "    child_entropy = (n_left / n_total) * left_entropy + (n_right / n_total) * right_entropy\n",
    "    \n",
    "    information_gain = parent_entropy - child_entropy\n",
    "    return information_gain\n",
    "\n",
    "def find_best_split(X, y):\n",
    "    \"\"\"数据划分\"\"\"\n",
    "    best_feature_index = None\n",
    "    best_threshold = None\n",
    "    best_information_gain_ratio = -np.inf\n",
    "    parent_entropy = calculate_entropy(y)\n",
    "    \n",
    "    for feature_index in range(X.shape[1]):\n",
    "        values = X[:, feature_index]\n",
    "        unique_values = np.unique(values)\n",
    "        if len(unique_values) <= 1:\n",
    "            continue\n",
    "        for value in unique_values:\n",
    "            left_indices = values <= value\n",
    "            right_indices = ~left_indices\n",
    "            left_entropy = calculate_entropy(y[left_indices])\n",
    "            right_entropy = calculate_entropy(y[right_indices])\n",
    "            conditional_entropy = ((np.sum(left_indices) / len(y)) * left_entropy \n",
    "                                   + (np.sum(right_indices) / len(y)) * right_entropy)\n",
    "            information_gain = parent_entropy - conditional_entropy\n",
    "            split_info = calculate_entropy(values)\n",
    "            information_gain_ratio = information_gain / split_info\n",
    "            if information_gain_ratio > best_information_gain_ratio:\n",
    "                best_information_gain_ratio = information_gain_ratio\n",
    "                best_feature_index = feature_index\n",
    "                best_threshold = value\n",
    "    \n",
    "    return best_feature_index, best_threshold"
   ]
  },
  {
   "cell_type": "markdown",
   "source": [
    "## 结点"
   ],
   "metadata": {
    "collapsed": false
   },
   "id": "eac1d6fbffad5bd5"
  },
  {
   "cell_type": "code",
   "execution_count": 5,
   "id": "9300c85bff587e9",
   "metadata": {
    "collapsed": false,
    "ExecuteTime": {
     "end_time": "2024-04-23T08:46:22.422530900Z",
     "start_time": "2024-04-23T08:46:22.403405300Z"
    }
   },
   "outputs": [],
   "source": [
    "class TreeNode:\n",
    "    def __init__(\n",
    "            self, feature_index=None, threshold=None, \n",
    "            value=None, left=None, right=None\n",
    "    ):\n",
    "        self.feature_index = feature_index\n",
    "        self.threshold = threshold\n",
    "        self.value = value\n",
    "        self.left = left\n",
    "        self.right = right"
   ]
  },
  {
   "cell_type": "markdown",
   "source": [
    "## 决策树"
   ],
   "metadata": {
    "collapsed": false
   },
   "id": "8c1c7f975f6c9e1"
  },
  {
   "cell_type": "code",
   "outputs": [],
   "source": [
    "class DecisionTree:\n",
    "    def __init__(self, max_depth=3):\n",
    "        self.max_depth = max_depth\n",
    "        self.root = None\n",
    "    \n",
    "    def generateTree(self, name, parent: TreeNode=None, depth=1):\n",
    "        X, y = self.load_Xy(name)\n",
    "        self.del_file(name)\n",
    "        \n",
    "        if depth == self.max_depth or len(set(y)) == 1:\n",
    "            node = TreeNode(value=np.sort(y)[y.shape[0] >> 1])\n",
    "        else:\n",
    "            best_feature_index, best_threshold = find_best_split(X, y)\n",
    "            left_indices = X[:, best_feature_index] <= best_threshold\n",
    "            right_indices = ~left_indices\n",
    "            \n",
    "            self.save_Xy(X[left_indices], y[left_indices], name + '0')\n",
    "            self.save_Xy(X[right_indices], y[right_indices], name + '1')\n",
    "            \n",
    "            node = TreeNode(\n",
    "                feature_index=best_feature_index, threshold=best_threshold,\n",
    "                left=None, right=None\n",
    "            )\n",
    "            \n",
    "            thread1 = threading.Thread(\n",
    "                target=self.generateTree, args=(name + '0', node, depth + 1,)\n",
    "            )\n",
    "            thread2 = threading.Thread(\n",
    "                target=self.generateTree, args=(name + '1', node, depth + 1,)\n",
    "            )\n",
    "            \n",
    "            thread1.start()\n",
    "            thread2.start()\n",
    "            \n",
    "            thread1.join()\n",
    "            thread2.join()\n",
    "        \n",
    "        if name[-1] == '0':\n",
    "            parent.left = node\n",
    "        elif name[-1] == '1':\n",
    "            parent.right = node\n",
    "        else:\n",
    "            self.root = node\n",
    "        return None\n",
    "    \n",
    "    def fit(self, X, y, name='X', save=False):\n",
    "        print('training')\n",
    "        self.save_Xy(X, y, name)\n",
    "        self.generateTree(name)\n",
    "        if save:\n",
    "            self.saveTree(f'Models/Tree_Model_{MODEL_VERSION}.pkl')\n",
    "        print('ok')\n",
    "    \n",
    "    def predict(self, X: np.ndarray) -> np.ndarray:\n",
    "        \"\"\"预测逻辑\"\"\"\n",
    "        y_pred = np.array([None] * X.shape[0])\n",
    "        for i in range(X.shape[0]):\n",
    "            node = self.root\n",
    "            while node.left is not None and node.right is not None:\n",
    "                if X[i][node.feature_index] <= node.threshold:\n",
    "                    node = node.left\n",
    "                else:\n",
    "                    node = node.right\n",
    "            y_pred[i] = node.value\n",
    "        return y_pred\n",
    "    \n",
    "    @staticmethod\n",
    "    def load_Xy(filename):\n",
    "        X = np.load(f'temp/{filename}_X.npy', allow_pickle=True)\n",
    "        y = np.load(f'temp/{filename}_y.npy', allow_pickle=True)\n",
    "        return X, y\n",
    "    \n",
    "    @staticmethod\n",
    "    def save_Xy(X, y, filename):\n",
    "        np.save(f'temp/{filename}_X', X)\n",
    "        np.save(f'temp/{filename}_y', y)\n",
    "    \n",
    "    @staticmethod\n",
    "    def del_file(filename):\n",
    "        os.remove(f'temp/{filename}_X.npy')\n",
    "        os.remove(f'temp/{filename}_y.npy')\n",
    "\n",
    "    def saveTree(self, filename):\n",
    "        with open(filename, 'wb') as f:\n",
    "            pickle.dump(self.root, f)\n",
    "    \n",
    "    def loadTree(self, filename):\n",
    "        with open(filename, 'rb') as f:\n",
    "            self.root = pickle.load(f)"
   ],
   "metadata": {
    "collapsed": false,
    "ExecuteTime": {
     "end_time": "2024-04-23T08:46:22.423844700Z",
     "start_time": "2024-04-23T08:46:22.410407800Z"
    }
   },
   "id": "7c4a66afb311bdd2",
   "execution_count": 6
  },
  {
   "cell_type": "markdown",
   "source": [
    "## 决策森林"
   ],
   "metadata": {
    "collapsed": false
   },
   "id": "3dd7e83be09ae163"
  },
  {
   "cell_type": "code",
   "outputs": [],
   "source": [
    "class DecisionForest(object):\n",
    "    def __init__(self):\n",
    "        self.tree: list[DecisionTree|None] = []\n",
    "        self.weight: list[float|None] = []\n",
    "        self.tree_number = None\n",
    "    \n",
    "    def fit(self, X: np.ndarray, y: np.ndarray, tree_number: int=5, *args, **kwargs):\n",
    "        print('Forest training start')\n",
    "        \n",
    "        self.tree_number =  tree_number\n",
    "        every_sample_number = X.shape[0] // tree_number\n",
    "        \n",
    "        # 训练\n",
    "        threads = []\n",
    "        for i in range(tree_number):\n",
    "            self.tree.append(DecisionTree(*args, **kwargs))\n",
    "            threads.append(\n",
    "                threading.Thread(\n",
    "                    target=self.tree[i].fit, args=(\n",
    "                        X[every_sample_number * i: every_sample_number * (i + 1)],\n",
    "                        y[every_sample_number * i: every_sample_number * (i + 1)],\n",
    "                        self.transName(i),\n",
    "                    )\n",
    "                )\n",
    "            )\n",
    "            threads[i].start()\n",
    "        \n",
    "        for i in range(tree_number):\n",
    "            threads[i].join()\n",
    "        \n",
    "        # 加权\n",
    "        pred = np.array([sum(tree.predict(X) == y) for tree in self.tree])\n",
    "        self.weight = np.array([p / sum(pred) for p in pred])\n",
    "        \n",
    "        self.saveForest(f'Models/Forest_model_{MODEL_VERSION}.pkl')\n",
    "        \n",
    "        print('Forest is ok')\n",
    "    \n",
    "    def predict(self, X):\n",
    "        votes = np.zeros((self.tree_number, X.shape[0]))\n",
    "        for i in range(self.tree_number):\n",
    "            votes[i] = self.tree[i].predict(X)\n",
    "        votes = np.array([np.dot(vote, self.weight) >= 0.5 for vote in votes.T])\n",
    "        return votes\n",
    "    \n",
    "    def saveForest(self, filename):\n",
    "        with open(filename + '-tree', 'wb') as f:\n",
    "            pickle.dump(self.tree, f)\n",
    "        with open(filename + '-weight', 'wb') as f:\n",
    "            pickle.dump(self.weight, f)\n",
    "    \n",
    "    def loadForest(self, filename):\n",
    "        with open(filename + '-tree.npy', 'rb') as f:\n",
    "            self.tree = pickle.load(f)\n",
    "        with open(filename + 'weight.npy', 'rb') as f:\n",
    "            self.weight = pickle.load(f)\n",
    "    \n",
    "    @staticmethod    \n",
    "    def transName(k: int) -> str:\n",
    "        return 'a' * (k // 26) + chr(ord('a') + k % 26)\n",
    "        "
   ],
   "metadata": {
    "collapsed": false,
    "execution": {
     "iopub.execute_input": "2024-04-22T13:15:35.145136Z",
     "iopub.status.busy": "2024-04-22T13:15:35.144380Z",
     "iopub.status.idle": "2024-04-22T13:15:35.167336Z",
     "shell.execute_reply": "2024-04-22T13:15:35.166444Z",
     "shell.execute_reply.started": "2024-04-22T13:15:35.145106Z"
    },
    "scrolled": true,
    "tags": [],
    "ExecuteTime": {
     "end_time": "2024-04-23T08:46:22.423844700Z",
     "start_time": "2024-04-23T08:46:22.418825100Z"
    }
   },
   "id": "0b64f9cf-deb1-4b1a-82f0-60b793397397",
   "execution_count": 7
  },
  {
   "cell_type": "markdown",
   "source": [
    "## 模型训练"
   ],
   "metadata": {
    "collapsed": false
   },
   "id": "2dbe784b4948f929"
  },
  {
   "cell_type": "code",
   "outputs": [
    {
     "name": "stdout",
     "output_type": "stream",
     "text": [
      "Forest training start\n",
      "training\n",
      "training\n",
      "training\n",
      "training\n",
      "training\n",
      "training\n",
      "training\n",
      "training\n",
      "training\n",
      "training\n",
      "training\n",
      "training\n",
      "training\n",
      "training\n",
      "training\n",
      "training\n",
      "training\n",
      "training\n",
      "training\n",
      "training\n",
      "training\n",
      "training\n",
      "training\n",
      "training\n",
      "training\n",
      "training\n",
      "training\n",
      "training\n",
      "training\n",
      "training\n",
      "training\n",
      "training\n",
      "training\n",
      "training\n",
      "training\n",
      "training\n",
      "training\n",
      "training\n",
      "training\n",
      "training\n",
      "training\n",
      "training\n",
      "training\n",
      "training\n",
      "training\n",
      "training\n",
      "training\n",
      "training\n",
      "training\n",
      "training\n",
      "training\n",
      "training\n",
      "training\n",
      "training\n",
      "training\n",
      "training\n",
      "training\n",
      "training\n",
      "training\n",
      "training\n",
      "training\n",
      "training\n",
      "training\n",
      "training\n",
      "training\n",
      "training\n",
      "training\n",
      "training\n",
      "training\n",
      "training\n",
      "training\n",
      "training\n",
      "training\n",
      "training\n",
      "training\n",
      "training\n",
      "training\n",
      "training\n",
      "training\n",
      "training\n",
      "training\n",
      "training\n",
      "training\n",
      "training\n",
      "training\n",
      "training\n",
      "training\n",
      "training\n",
      "training\n",
      "training\n",
      "training\n",
      "training\n",
      "training\n",
      "training\n",
      "training\n",
      "training\n",
      "training\n",
      "training\n",
      "training\n",
      "training\n",
      "ok\n",
      "ok\n",
      "ok\n",
      "ok\n",
      "ok\n",
      "ok\n",
      "ok\n",
      "ok\n",
      "ok\n",
      "ok\n",
      "ok\n",
      "ok\n",
      "ok\n",
      "ok\n",
      "ok\n",
      "ok\n",
      "ok\n",
      "ok\n",
      "ok\n",
      "ok\n",
      "ok\n",
      "ok\n",
      "ok\n",
      "ok\n",
      "ok\n",
      "okok\n",
      "ok\n",
      "ok\n",
      "ok\n",
      "okok\n",
      "ok\n",
      "ok\n",
      "ok\n",
      "ok\n",
      "ok\n",
      "ok\n",
      "ok\n",
      "ok\n",
      "okok\n",
      "ok\n",
      "\n",
      "ok\n",
      "ok\n",
      "ok\n",
      "ok\n",
      "ok\n",
      "ok\n",
      "ok\n",
      "ok\n",
      "ok\n",
      "ok\n",
      "ok\n",
      "ok\n",
      "ok\n",
      "ok\n",
      "ok\n",
      "ok\n",
      "ok\n",
      "ok\n",
      "ok\n",
      "ok\n",
      "ok\n",
      "ok\n",
      "ok\n",
      "ok\n",
      "ok\n",
      "ok\n",
      "ok\n",
      "ok\n",
      "ok\n",
      "ok\n",
      "ok\n",
      "ok\n",
      "ok\n",
      "ok\n",
      "ok\n",
      "ok\n",
      "ok\n",
      "ok\n",
      "ok\n",
      "ok\n",
      "ok\n",
      "ok\n",
      "ok\n",
      "ok\n",
      "ok\n",
      "ok\n",
      "ok\n",
      "ok\n",
      "ok\n",
      "ok\n",
      "ok\n",
      "ok\n",
      "ok\n",
      "ok\n",
      "ok\n",
      "ok\n",
      "ok\n",
      "Forest is ok\n"
     ]
    }
   ],
   "source": [
    "forest = DecisionForest()\n",
    "forest.fit(X_train, y_train, tree_number=100, max_depth=5)"
   ],
   "metadata": {
    "collapsed": false,
    "ExecuteTime": {
     "end_time": "2024-04-23T08:50:02.943374700Z",
     "start_time": "2024-04-23T08:46:22.421530600Z"
    }
   },
   "id": "597391b8c700f8f1",
   "execution_count": 8
  },
  {
   "cell_type": "markdown",
   "source": [
    "## 模型测试"
   ],
   "metadata": {
    "collapsed": false
   },
   "id": "d7f58c6433648e1"
  },
  {
   "cell_type": "code",
   "execution_count": 9,
   "id": "438c3b377af52804",
   "metadata": {
    "collapsed": false,
    "execution": {
     "iopub.execute_input": "2024-04-22T13:16:17.898709Z",
     "iopub.status.busy": "2024-04-22T13:16:17.898135Z",
     "iopub.status.idle": "2024-04-22T13:16:18.162765Z",
     "shell.execute_reply": "2024-04-22T13:16:18.161880Z",
     "shell.execute_reply.started": "2024-04-22T13:16:17.898679Z"
    },
    "scrolled": true,
    "tags": [],
    "ExecuteTime": {
     "end_time": "2024-04-23T08:50:04.785946300Z",
     "start_time": "2024-04-23T08:50:02.938617300Z"
    }
   },
   "outputs": [
    {
     "name": "stdout",
     "output_type": "stream",
     "text": [
      "准确率:  0.8201584669246361 \n",
      " 精确率:  0.8138245197068726 \n",
      " 召回率:  0.9913148371531966 \n",
      " F1 值:  0.8938438111812053 \n"
     ]
    }
   ],
   "source": [
    "y_pred_forest = forest.predict(X_test)\n",
    "sc = score(y_test, y_pred_forest)\n",
    "print(\"准确率: \", sc.accuracy_score, '\\n',\n",
    "      \"精确率: \", sc.precision_score, '\\n',\n",
    "      \"召回率: \", sc.recall_score, '\\n', \n",
    "      \"F1 值: \", sc.f1_score, '\\n')"
   ]
  },
  {
   "cell_type": "code",
   "execution_count": 10,
   "id": "22f1e3376dfe8e0b",
   "metadata": {
    "collapsed": false,
    "execution": {
     "iopub.execute_input": "2024-04-22T13:20:15.578103Z",
     "iopub.status.busy": "2024-04-22T13:20:15.577547Z",
     "iopub.status.idle": "2024-04-22T13:20:15.881415Z",
     "shell.execute_reply": "2024-04-22T13:20:15.880432Z",
     "shell.execute_reply.started": "2024-04-22T13:20:15.578072Z"
    },
    "scrolled": true,
    "tags": [],
    "ExecuteTime": {
     "end_time": "2024-04-23T08:50:05.257749100Z",
     "start_time": "2024-04-23T08:50:04.780944300Z"
    }
   },
   "outputs": [
    {
     "name": "stdout",
     "output_type": "stream",
     "text": [
      "准确率: 0.8201584669246361\n",
      "精确率: 0.8138245197068726\n",
      "召回率: 0.9913148371531966\n",
      "F1 值: 0.8938438111812053\n"
     ]
    }
   ],
   "source": [
    "# sklearn测试\n",
    "from sklearn.metrics import accuracy_score, precision_score, recall_score, f1_score\n",
    "\n",
    "accuracy = accuracy_score(y_test, y_pred_forest)\n",
    "print(\"准确率:\", accuracy)\n",
    "\n",
    "precision = precision_score(y_test, y_pred_forest, pos_label=1)\n",
    "print(\"精确率:\", precision)\n",
    "\n",
    "recall = recall_score(y_test, y_pred_forest, pos_label=1)\n",
    "print(\"召回率:\", recall)\n",
    "\n",
    "f1 = f1_score(y_test, y_pred_forest, pos_label=1)\n",
    "print(\"F1 值:\", f1)\n"
   ]
  },
  {
   "cell_type": "markdown",
   "source": [
    "## 测试代码"
   ],
   "metadata": {
    "collapsed": false
   },
   "id": "a623992d74c8bbbc"
  },
  {
   "cell_type": "code",
   "outputs": [],
   "source": [
    "    # def draw_tree(self, root, x=0, y=0, width=50, height=10):\n",
    "    #     if root is None:\n",
    "    #         return\n",
    "    #     # 绘制当前节点\n",
    "    #     plt.text(\n",
    "    #         x, y, str(root), color='black', fontsize=12, ha='center', va='center', \n",
    "    #         bbox=dict(facecolor='white', edgecolor='black', boxstyle='circle')\n",
    "    #     )\n",
    "    #     # 绘制左子树\n",
    "    #     if root.left:\n",
    "    #         plt.plot([x, x - width], [y, y - height], color='black')\n",
    "    #         self.draw_tree(root.left, x - width, y - height, width / 2, height)\n",
    "    #     # 绘制右子树\n",
    "    #     if root.right:\n",
    "    #         plt.plot([x, x + width], [y, y - height], color='black')\n",
    "    #         self.draw_tree(root.right, x + width, y - height, width / 2, height)\n",
    "    # \n",
    "    # def show_tree(self):\n",
    "    #     plt.figure(figsize=(8, 6))\n",
    "    #     self.draw_tree(self.root)\n",
    "    #     plt.axis('off')\n",
    "    #     plt.show()"
   ],
   "metadata": {
    "collapsed": false,
    "ExecuteTime": {
     "end_time": "2024-04-23T08:50:05.257749100Z",
     "start_time": "2024-04-23T08:50:05.252592Z"
    }
   },
   "id": "b0509486713200f7",
   "execution_count": 11
  },
  {
   "cell_type": "code",
   "outputs": [
    {
     "name": "stdout",
     "output_type": "stream",
     "text": [
      "iteration 1\n"
     ]
    },
    {
     "data": {
      "text/plain": "   x   y\nA  2  10\nB  5   8\nC  1   2",
      "text/html": "<div>\n<style scoped>\n    .dataframe tbody tr th:only-of-type {\n        vertical-align: middle;\n    }\n\n    .dataframe tbody tr th {\n        vertical-align: top;\n    }\n\n    .dataframe thead th {\n        text-align: right;\n    }\n</style>\n<table border=\"1\" class=\"dataframe\">\n  <thead>\n    <tr style=\"text-align: right;\">\n      <th></th>\n      <th>x</th>\n      <th>y</th>\n    </tr>\n  </thead>\n  <tbody>\n    <tr>\n      <th>A</th>\n      <td>2</td>\n      <td>10</td>\n    </tr>\n    <tr>\n      <th>B</th>\n      <td>5</td>\n      <td>8</td>\n    </tr>\n    <tr>\n      <th>C</th>\n      <td>1</td>\n      <td>2</td>\n    </tr>\n  </tbody>\n</table>\n</div>"
     },
     "metadata": {},
     "output_type": "display_data"
    },
    {
     "data": {
      "text/plain": "         A      B       C Nearest\nA1     0.0  234.0  1170.0       A\nA2   450.0  324.0   180.0       C\nA3  1296.0  450.0   954.0       B\nB1   234.0    0.0   936.0       B\nB2   900.0  234.0   810.0       B\nB3   936.0  306.0   522.0       B\nC1  1170.0  936.0     0.0       C\nC3    90.0   36.0  1044.0       B",
      "text/html": "<div>\n<style scoped>\n    .dataframe tbody tr th:only-of-type {\n        vertical-align: middle;\n    }\n\n    .dataframe tbody tr th {\n        vertical-align: top;\n    }\n\n    .dataframe thead th {\n        text-align: right;\n    }\n</style>\n<table border=\"1\" class=\"dataframe\">\n  <thead>\n    <tr style=\"text-align: right;\">\n      <th></th>\n      <th>A</th>\n      <th>B</th>\n      <th>C</th>\n      <th>Nearest</th>\n    </tr>\n  </thead>\n  <tbody>\n    <tr>\n      <th>A1</th>\n      <td>0.0</td>\n      <td>234.0</td>\n      <td>1170.0</td>\n      <td>A</td>\n    </tr>\n    <tr>\n      <th>A2</th>\n      <td>450.0</td>\n      <td>324.0</td>\n      <td>180.0</td>\n      <td>C</td>\n    </tr>\n    <tr>\n      <th>A3</th>\n      <td>1296.0</td>\n      <td>450.0</td>\n      <td>954.0</td>\n      <td>B</td>\n    </tr>\n    <tr>\n      <th>B1</th>\n      <td>234.0</td>\n      <td>0.0</td>\n      <td>936.0</td>\n      <td>B</td>\n    </tr>\n    <tr>\n      <th>B2</th>\n      <td>900.0</td>\n      <td>234.0</td>\n      <td>810.0</td>\n      <td>B</td>\n    </tr>\n    <tr>\n      <th>B3</th>\n      <td>936.0</td>\n      <td>306.0</td>\n      <td>522.0</td>\n      <td>B</td>\n    </tr>\n    <tr>\n      <th>C1</th>\n      <td>1170.0</td>\n      <td>936.0</td>\n      <td>0.0</td>\n      <td>C</td>\n    </tr>\n    <tr>\n      <th>C3</th>\n      <td>90.0</td>\n      <td>36.0</td>\n      <td>1044.0</td>\n      <td>B</td>\n    </tr>\n  </tbody>\n</table>\n</div>"
     },
     "metadata": {},
     "output_type": "display_data"
    },
    {
     "name": "stdout",
     "output_type": "stream",
     "text": [
      "iteration 2\n"
     ]
    },
    {
     "data": {
      "text/plain": "     x     y\nA  2.0  10.0\nB  6.0   6.0\nC  1.5   3.5",
      "text/html": "<div>\n<style scoped>\n    .dataframe tbody tr th:only-of-type {\n        vertical-align: middle;\n    }\n\n    .dataframe tbody tr th {\n        vertical-align: top;\n    }\n\n    .dataframe thead th {\n        text-align: right;\n    }\n</style>\n<table border=\"1\" class=\"dataframe\">\n  <thead>\n    <tr style=\"text-align: right;\">\n      <th></th>\n      <th>x</th>\n      <th>y</th>\n    </tr>\n  </thead>\n  <tbody>\n    <tr>\n      <th>A</th>\n      <td>2.0</td>\n      <td>10.0</td>\n    </tr>\n    <tr>\n      <th>B</th>\n      <td>6.0</td>\n      <td>6.0</td>\n    </tr>\n    <tr>\n      <th>C</th>\n      <td>1.5</td>\n      <td>3.5</td>\n    </tr>\n  </tbody>\n</table>\n</div>"
     },
     "metadata": {},
     "output_type": "display_data"
    },
    {
     "data": {
      "text/plain": "         A      B      C Nearest\nA1     0.0  576.0  765.0       A\nA2   450.0  306.0   45.0       C\nA3  1296.0  144.0  765.0       B\nB1   234.0   90.0  585.0       B\nB2   900.0   36.0  585.0       B\nB3   936.0   72.0  369.0       B\nC1  1170.0  738.0   45.0       C\nC3    90.0  234.0  657.0       A",
      "text/html": "<div>\n<style scoped>\n    .dataframe tbody tr th:only-of-type {\n        vertical-align: middle;\n    }\n\n    .dataframe tbody tr th {\n        vertical-align: top;\n    }\n\n    .dataframe thead th {\n        text-align: right;\n    }\n</style>\n<table border=\"1\" class=\"dataframe\">\n  <thead>\n    <tr style=\"text-align: right;\">\n      <th></th>\n      <th>A</th>\n      <th>B</th>\n      <th>C</th>\n      <th>Nearest</th>\n    </tr>\n  </thead>\n  <tbody>\n    <tr>\n      <th>A1</th>\n      <td>0.0</td>\n      <td>576.0</td>\n      <td>765.0</td>\n      <td>A</td>\n    </tr>\n    <tr>\n      <th>A2</th>\n      <td>450.0</td>\n      <td>306.0</td>\n      <td>45.0</td>\n      <td>C</td>\n    </tr>\n    <tr>\n      <th>A3</th>\n      <td>1296.0</td>\n      <td>144.0</td>\n      <td>765.0</td>\n      <td>B</td>\n    </tr>\n    <tr>\n      <th>B1</th>\n      <td>234.0</td>\n      <td>90.0</td>\n      <td>585.0</td>\n      <td>B</td>\n    </tr>\n    <tr>\n      <th>B2</th>\n      <td>900.0</td>\n      <td>36.0</td>\n      <td>585.0</td>\n      <td>B</td>\n    </tr>\n    <tr>\n      <th>B3</th>\n      <td>936.0</td>\n      <td>72.0</td>\n      <td>369.0</td>\n      <td>B</td>\n    </tr>\n    <tr>\n      <th>C1</th>\n      <td>1170.0</td>\n      <td>738.0</td>\n      <td>45.0</td>\n      <td>C</td>\n    </tr>\n    <tr>\n      <th>C3</th>\n      <td>90.0</td>\n      <td>234.0</td>\n      <td>657.0</td>\n      <td>A</td>\n    </tr>\n  </tbody>\n</table>\n</div>"
     },
     "metadata": {},
     "output_type": "display_data"
    },
    {
     "name": "stdout",
     "output_type": "stream",
     "text": [
      "iteration 3\n"
     ]
    },
    {
     "data": {
      "text/plain": "     x     y\nA  3.0   9.5\nB  6.5  5.25\nC  1.5   3.5",
      "text/html": "<div>\n<style scoped>\n    .dataframe tbody tr th:only-of-type {\n        vertical-align: middle;\n    }\n\n    .dataframe tbody tr th {\n        vertical-align: top;\n    }\n\n    .dataframe thead th {\n        text-align: right;\n    }\n</style>\n<table border=\"1\" class=\"dataframe\">\n  <thead>\n    <tr style=\"text-align: right;\">\n      <th></th>\n      <th>x</th>\n      <th>y</th>\n    </tr>\n  </thead>\n  <tbody>\n    <tr>\n      <th>A</th>\n      <td>3.0</td>\n      <td>9.5</td>\n    </tr>\n    <tr>\n      <th>B</th>\n      <td>6.5</td>\n      <td>5.25</td>\n    </tr>\n    <tr>\n      <th>C</th>\n      <td>1.5</td>\n      <td>3.5</td>\n    </tr>\n  </tbody>\n</table>\n</div>"
     },
     "metadata": {},
     "output_type": "display_data"
    },
    {
     "data": {
      "text/plain": "         A        B      C Nearest\nA1    22.5  770.625  765.0       A\nA2   382.5  365.625   45.0       C\nA3   994.5   68.625  765.0       B\nB1   112.5  176.625  585.0       A\nB2   652.5    5.625  585.0       B\nB3   706.5   32.625  369.0       B\nC1  1084.5  734.625   45.0       C\nC3    22.5  365.625  657.0       A",
      "text/html": "<div>\n<style scoped>\n    .dataframe tbody tr th:only-of-type {\n        vertical-align: middle;\n    }\n\n    .dataframe tbody tr th {\n        vertical-align: top;\n    }\n\n    .dataframe thead th {\n        text-align: right;\n    }\n</style>\n<table border=\"1\" class=\"dataframe\">\n  <thead>\n    <tr style=\"text-align: right;\">\n      <th></th>\n      <th>A</th>\n      <th>B</th>\n      <th>C</th>\n      <th>Nearest</th>\n    </tr>\n  </thead>\n  <tbody>\n    <tr>\n      <th>A1</th>\n      <td>22.5</td>\n      <td>770.625</td>\n      <td>765.0</td>\n      <td>A</td>\n    </tr>\n    <tr>\n      <th>A2</th>\n      <td>382.5</td>\n      <td>365.625</td>\n      <td>45.0</td>\n      <td>C</td>\n    </tr>\n    <tr>\n      <th>A3</th>\n      <td>994.5</td>\n      <td>68.625</td>\n      <td>765.0</td>\n      <td>B</td>\n    </tr>\n    <tr>\n      <th>B1</th>\n      <td>112.5</td>\n      <td>176.625</td>\n      <td>585.0</td>\n      <td>A</td>\n    </tr>\n    <tr>\n      <th>B2</th>\n      <td>652.5</td>\n      <td>5.625</td>\n      <td>585.0</td>\n      <td>B</td>\n    </tr>\n    <tr>\n      <th>B3</th>\n      <td>706.5</td>\n      <td>32.625</td>\n      <td>369.0</td>\n      <td>B</td>\n    </tr>\n    <tr>\n      <th>C1</th>\n      <td>1084.5</td>\n      <td>734.625</td>\n      <td>45.0</td>\n      <td>C</td>\n    </tr>\n    <tr>\n      <th>C3</th>\n      <td>22.5</td>\n      <td>365.625</td>\n      <td>657.0</td>\n      <td>A</td>\n    </tr>\n  </tbody>\n</table>\n</div>"
     },
     "metadata": {},
     "output_type": "display_data"
    },
    {
     "name": "stdout",
     "output_type": "stream",
     "text": [
      "iteration 4\n"
     ]
    },
    {
     "data": {
      "text/plain": "                    x                  y\nA  3.6666666666666665                9.0\nB                 7.0  4.333333333333333\nC                 1.5                3.5",
      "text/html": "<div>\n<style scoped>\n    .dataframe tbody tr th:only-of-type {\n        vertical-align: middle;\n    }\n\n    .dataframe tbody tr th {\n        vertical-align: top;\n    }\n\n    .dataframe thead th {\n        text-align: right;\n    }\n</style>\n<table border=\"1\" class=\"dataframe\">\n  <thead>\n    <tr style=\"text-align: right;\">\n      <th></th>\n      <th>x</th>\n      <th>y</th>\n    </tr>\n  </thead>\n  <tbody>\n    <tr>\n      <th>A</th>\n      <td>3.6666666666666665</td>\n      <td>9.0</td>\n    </tr>\n    <tr>\n      <th>B</th>\n      <td>7.0</td>\n      <td>4.333333333333333</td>\n    </tr>\n    <tr>\n      <th>C</th>\n      <td>1.5</td>\n      <td>3.5</td>\n    </tr>\n  </tbody>\n</table>\n</div>"
     },
     "metadata": {},
     "output_type": "display_data"
    },
    {
     "data": {
      "text/plain": "         A       B      C Nearest\nA1    68.0  1028.0  765.0       A\nA2   338.0   458.0   45.0       C\nA3   788.0    20.0  765.0       B\nB1    50.0   314.0  585.0       A\nB2   488.0     8.0  585.0       B\nB3   548.0    20.0  369.0       B\nC1  1010.0   746.0   45.0       C\nC3     2.0   554.0  657.0       A",
      "text/html": "<div>\n<style scoped>\n    .dataframe tbody tr th:only-of-type {\n        vertical-align: middle;\n    }\n\n    .dataframe tbody tr th {\n        vertical-align: top;\n    }\n\n    .dataframe thead th {\n        text-align: right;\n    }\n</style>\n<table border=\"1\" class=\"dataframe\">\n  <thead>\n    <tr style=\"text-align: right;\">\n      <th></th>\n      <th>A</th>\n      <th>B</th>\n      <th>C</th>\n      <th>Nearest</th>\n    </tr>\n  </thead>\n  <tbody>\n    <tr>\n      <th>A1</th>\n      <td>68.0</td>\n      <td>1028.0</td>\n      <td>765.0</td>\n      <td>A</td>\n    </tr>\n    <tr>\n      <th>A2</th>\n      <td>338.0</td>\n      <td>458.0</td>\n      <td>45.0</td>\n      <td>C</td>\n    </tr>\n    <tr>\n      <th>A3</th>\n      <td>788.0</td>\n      <td>20.0</td>\n      <td>765.0</td>\n      <td>B</td>\n    </tr>\n    <tr>\n      <th>B1</th>\n      <td>50.0</td>\n      <td>314.0</td>\n      <td>585.0</td>\n      <td>A</td>\n    </tr>\n    <tr>\n      <th>B2</th>\n      <td>488.0</td>\n      <td>8.0</td>\n      <td>585.0</td>\n      <td>B</td>\n    </tr>\n    <tr>\n      <th>B3</th>\n      <td>548.0</td>\n      <td>20.0</td>\n      <td>369.0</td>\n      <td>B</td>\n    </tr>\n    <tr>\n      <th>C1</th>\n      <td>1010.0</td>\n      <td>746.0</td>\n      <td>45.0</td>\n      <td>C</td>\n    </tr>\n    <tr>\n      <th>C3</th>\n      <td>2.0</td>\n      <td>554.0</td>\n      <td>657.0</td>\n      <td>A</td>\n    </tr>\n  </tbody>\n</table>\n</div>"
     },
     "metadata": {},
     "output_type": "display_data"
    },
    {
     "name": "stdout",
     "output_type": "stream",
     "text": [
      "iteration 5\n"
     ]
    },
    {
     "data": {
      "text/plain": "                    x                  y\nA  3.6666666666666665                9.0\nB                 7.0  4.333333333333333\nC                 1.5                3.5",
      "text/html": "<div>\n<style scoped>\n    .dataframe tbody tr th:only-of-type {\n        vertical-align: middle;\n    }\n\n    .dataframe tbody tr th {\n        vertical-align: top;\n    }\n\n    .dataframe thead th {\n        text-align: right;\n    }\n</style>\n<table border=\"1\" class=\"dataframe\">\n  <thead>\n    <tr style=\"text-align: right;\">\n      <th></th>\n      <th>x</th>\n      <th>y</th>\n    </tr>\n  </thead>\n  <tbody>\n    <tr>\n      <th>A</th>\n      <td>3.6666666666666665</td>\n      <td>9.0</td>\n    </tr>\n    <tr>\n      <th>B</th>\n      <td>7.0</td>\n      <td>4.333333333333333</td>\n    </tr>\n    <tr>\n      <th>C</th>\n      <td>1.5</td>\n      <td>3.5</td>\n    </tr>\n  </tbody>\n</table>\n</div>"
     },
     "metadata": {},
     "output_type": "display_data"
    },
    {
     "data": {
      "text/plain": "         A       B      C Nearest\nA1    68.0  1028.0  765.0       A\nA2   338.0   458.0   45.0       C\nA3   788.0    20.0  765.0       B\nB1    50.0   314.0  585.0       A\nB2   488.0     8.0  585.0       B\nB3   548.0    20.0  369.0       B\nC1  1010.0   746.0   45.0       C\nC3     2.0   554.0  657.0       A",
      "text/html": "<div>\n<style scoped>\n    .dataframe tbody tr th:only-of-type {\n        vertical-align: middle;\n    }\n\n    .dataframe tbody tr th {\n        vertical-align: top;\n    }\n\n    .dataframe thead th {\n        text-align: right;\n    }\n</style>\n<table border=\"1\" class=\"dataframe\">\n  <thead>\n    <tr style=\"text-align: right;\">\n      <th></th>\n      <th>A</th>\n      <th>B</th>\n      <th>C</th>\n      <th>Nearest</th>\n    </tr>\n  </thead>\n  <tbody>\n    <tr>\n      <th>A1</th>\n      <td>68.0</td>\n      <td>1028.0</td>\n      <td>765.0</td>\n      <td>A</td>\n    </tr>\n    <tr>\n      <th>A2</th>\n      <td>338.0</td>\n      <td>458.0</td>\n      <td>45.0</td>\n      <td>C</td>\n    </tr>\n    <tr>\n      <th>A3</th>\n      <td>788.0</td>\n      <td>20.0</td>\n      <td>765.0</td>\n      <td>B</td>\n    </tr>\n    <tr>\n      <th>B1</th>\n      <td>50.0</td>\n      <td>314.0</td>\n      <td>585.0</td>\n      <td>A</td>\n    </tr>\n    <tr>\n      <th>B2</th>\n      <td>488.0</td>\n      <td>8.0</td>\n      <td>585.0</td>\n      <td>B</td>\n    </tr>\n    <tr>\n      <th>B3</th>\n      <td>548.0</td>\n      <td>20.0</td>\n      <td>369.0</td>\n      <td>B</td>\n    </tr>\n    <tr>\n      <th>C1</th>\n      <td>1010.0</td>\n      <td>746.0</td>\n      <td>45.0</td>\n      <td>C</td>\n    </tr>\n    <tr>\n      <th>C3</th>\n      <td>2.0</td>\n      <td>554.0</td>\n      <td>657.0</td>\n      <td>A</td>\n    </tr>\n  </tbody>\n</table>\n</div>"
     },
     "metadata": {},
     "output_type": "display_data"
    }
   ],
   "source": [
    "import numpy as np\n",
    "import pandas as pd\n",
    "from IPython.display import display\n",
    "from fractions import Fraction\n",
    "def distance(x1, x2):\n",
    "    return np.sum(np.square(x1 - x2))\n",
    "\n",
    "\n",
    "def distance_matrix(Means: np.ndarray, points: np.ndarray):\n",
    "    Matrix = pd.DataFrame(columns=np.append(Means[:, -1], 'Nearest'), index=points[:, -1])\n",
    "\n",
    "    for X in points:\n",
    "        for Y in Means:\n",
    "            x = X[:-1].astype(float)\n",
    "            y = Y[:-1].astype(float)\n",
    "            Matrix.loc[X[-1], Y[-1]] = distance(np.array(x), np.array(y))\n",
    "        Matrix.loc[X[-1], 'Nearest'] = Matrix.columns[np.argmin(Matrix.loc[X[-1]])]\n",
    "        \n",
    "    new_Means = np.array(\n",
    "        [points[Matrix['Nearest'] == it][:, :-1].astype(float).mean(axis=0).tolist() + [it]\n",
    "        for it in ['A', 'B', 'C']]\n",
    "    )\n",
    "    return Matrix, new_Means\n",
    "\n",
    "\n",
    "def main():\n",
    "    points = np.array([\n",
    "        [2, 10, \"A1\"],  # A1\n",
    "        [2, 5, \"A2\"],  # A2\n",
    "        [8, 4, \"A3\"],  # A3\n",
    "        [5, 8, \"B1\"],  # B1\n",
    "        [7, 5, \"B2\"],  # B2\n",
    "        [6, 4, \"B3\"],  # B3\n",
    "        [1, 2, \"C1\"],  # C1\n",
    "        [4, 9, \"C3\"]  # C3\n",
    "    ])\n",
    "    \n",
    "    Means = np.array([\n",
    "        [2, 10, \"A\"],  # A\n",
    "        [5, 8, \"B\"],  # B\n",
    "        [1, 2, \"C\"]  # C\n",
    "    ])\n",
    "    \n",
    "\n",
    "    for i in range(5):\n",
    "        print(f'iteration {i+1}')\n",
    "        # display(pd.DataFrame(\n",
    "        #     points[:, :-1],\n",
    "        #     columns=['x', 'y'], \n",
    "        #     index=points[:, -1])\n",
    "        # )\n",
    "        display(pd.DataFrame(Means[:, :-1], columns=['x', 'y'], index=Means[:, -1]))\n",
    "        Matrix, new_Means = distance_matrix(Means, points)\n",
    "        Matrix = Matrix.applymap(lambda x: x * 18 if isinstance(x, float) else x)\n",
    "        display(Matrix)\n",
    "        Means = new_Means\n",
    "    \n",
    "    \n",
    "main()\n",
    "# np.sum(np.square(np.array([1, 2]) - np.array([2, 3])))"
   ],
   "metadata": {
    "collapsed": false,
    "ExecuteTime": {
     "end_time": "2024-06-03T12:04:27.474872400Z",
     "start_time": "2024-06-03T12:04:27.418758500Z"
    }
   },
   "id": "11afd61a343c24c5",
   "execution_count": 49
  }
 ],
 "metadata": {
  "kernelspec": {
   "name": "python3",
   "language": "python",
   "display_name": "Python 3 (ipykernel)"
  },
  "language_info": {
   "codemirror_mode": {
    "name": "ipython",
    "version": 3
   },
   "file_extension": ".py",
   "mimetype": "text/x-python",
   "name": "python",
   "nbconvert_exporter": "python",
   "pygments_lexer": "ipython3",
   "version": "3.10.10"
  }
 },
 "nbformat": 4,
 "nbformat_minor": 5
}
