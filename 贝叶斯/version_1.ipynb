{
 "cells": [
  {
   "cell_type": "code",
   "outputs": [],
   "source": [
    "import torch\n",
    "from torchvision import datasets, transforms\n",
    "from torch.utils.data import DataLoader"
   ],
   "metadata": {
    "collapsed": false,
    "ExecuteTime": {
     "end_time": "2024-06-25T08:43:54.532649600Z",
     "start_time": "2024-06-25T08:43:50.118585100Z"
    }
   },
   "id": "617f3a4ae8a557ac",
   "execution_count": 1
  },
  {
   "cell_type": "code",
   "outputs": [
    {
     "data": {
      "text/plain": "True"
     },
     "execution_count": 2,
     "metadata": {},
     "output_type": "execute_result"
    }
   ],
   "source": [
    "torch.device('cuda' if torch.cuda.is_available() else 'cpu')\n",
    "torch.cuda.is_available()"
   ],
   "metadata": {
    "collapsed": false,
    "ExecuteTime": {
     "end_time": "2024-06-25T08:43:55.790289900Z",
     "start_time": "2024-06-25T08:43:55.783851Z"
    }
   },
   "id": "74f3039cd4abbd76",
   "execution_count": 2
  },
  {
   "cell_type": "code",
   "outputs": [
    {
     "name": "stdout",
     "output_type": "stream",
     "text": [
      "Accuracy of the Bayesian classifier on the MNIST test set: 69.03%\n"
     ]
    }
   ],
   "source": [
    "# Step 1: Load MNIST dataset\n",
    "transform = transforms.Compose([transforms.ToTensor()])\n",
    "\n",
    "train_dataset = datasets.MNIST(root='./data', train=True, download=False, transform=transform)\n",
    "test_dataset = datasets.MNIST(root='./data', train=False, download=False, transform=transform)\n",
    "\n",
    "train_loader = DataLoader(train_dataset, batch_size=64, shuffle=True)\n",
    "test_loader = DataLoader(test_dataset, batch_size=1000, shuffle=False)\n",
    "# Step 2: Data preprocessing (No specific preprocessing needed for MNIST with PyTorch)\n",
    "\n",
    "# Step 3: Define and train Bayesian classifier\n",
    "class BayesianClassifier:\n",
    "    def __init__(self):\n",
    "        self.class_priors = torch.zeros(10)\n",
    "        self.likelihoods = torch.zeros((10, 28 * 28))\n",
    "        self.feature_counts = torch.zeros((10, 28 * 28))\n",
    "        self.class_counts = torch.zeros(10)\n",
    "\n",
    "    def train(self, train_loader):\n",
    "        for images, labels in train_loader:\n",
    "            images = images.view(-1, 28 * 28)\n",
    "            for i in range(10):\n",
    "                class_images = images[labels == i]\n",
    "                self.feature_counts[i] += class_images.sum(dim=0)\n",
    "                self.class_counts[i] += class_images.shape[0]\n",
    "        \n",
    "        self.class_priors = self.class_counts / self.class_counts.sum()\n",
    "        self.likelihoods = (self.feature_counts + 1) / (self.class_counts.view(-1, 1) + 2)  # Laplace smoothing\n",
    "\n",
    "    def predict(self, images):\n",
    "        images = images.view(-1, 28 * 28)\n",
    "        log_priors = torch.log(self.class_priors)\n",
    "        log_likelihoods = torch.log(self.likelihoods)\n",
    "        log_posterior = log_priors + images @ log_likelihoods.T\n",
    "        return torch.argmax(log_posterior, dim=1)\n",
    "\n",
    "# Initialize and train the classifier\n",
    "classifier = BayesianClassifier()\n",
    "classifier.train(train_loader)\n",
    "\n",
    "# Step 4: Test the model\n",
    "correct = 0\n",
    "total = 0\n",
    "with torch.no_grad():\n",
    "    for images, labels in test_loader:\n",
    "        outputs = classifier.predict(images)\n",
    "        total += labels.size(0)\n",
    "        correct += (outputs == labels).sum().item()\n",
    "\n",
    "accuracy = correct / total\n",
    "print(f'Accuracy of the Bayesian classifier on the MNIST test set: {accuracy * 100:.2f}%')\n"
   ],
   "metadata": {
    "collapsed": false,
    "ExecuteTime": {
     "end_time": "2024-06-25T08:44:04.078862300Z",
     "start_time": "2024-06-25T08:43:55.792990300Z"
    }
   },
   "id": "85f1ed1f960ccb2b",
   "execution_count": 3
  }
 ],
 "metadata": {
  "kernelspec": {
   "display_name": "Python 3",
   "language": "python",
   "name": "python3"
  },
  "language_info": {
   "codemirror_mode": {
    "name": "ipython",
    "version": 2
   },
   "file_extension": ".py",
   "mimetype": "text/x-python",
   "name": "python",
   "nbconvert_exporter": "python",
   "pygments_lexer": "ipython2",
   "version": "2.7.6"
  }
 },
 "nbformat": 4,
 "nbformat_minor": 5
}
